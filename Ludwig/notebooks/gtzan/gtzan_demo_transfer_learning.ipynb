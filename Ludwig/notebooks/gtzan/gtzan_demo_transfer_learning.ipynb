{
  "cells": [
    {
      "cell_type": "code",
      "execution_count": 2,
      "metadata": {
        "execution": {
          "iopub.execute_input": "2022-01-29T20:23:53.858155Z",
          "iopub.status.busy": "2022-01-29T20:23:53.856814Z",
          "iopub.status.idle": "2022-01-29T20:23:53.864056Z",
          "shell.execute_reply": "2022-01-29T20:23:53.862669Z",
          "shell.execute_reply.started": "2022-01-29T20:23:53.858104Z"
        },
        "trusted": true,
        "id": "Qv0vR00IP-FZ"
      },
      "outputs": [],
      "source": [
        "#!pip install tensorflow librosa"
      ]
    },
    {
      "cell_type": "markdown",
      "metadata": {
        "id": "iJQ9_KkJP-Fc"
      },
      "source": [
        "[![Open In Colab](https://colab.research.google.com/assets/colab-badge.svg)](https://colab.research.google.com/github/JorgeRuizDev/SpotMyFM/blob/main/Ludwig/notebooks/gtzan/gtzan_demo_transfer_learning.ipynb)\n",
        "[![Kaggle](https://kaggle.com/static/images/open-in-kaggle.svg)](https://kaggle.com/kernels/welcome?src=https://github.com/JorgeRuizDev/SpotMyFM/blob/main/Ludwig/notebooks/gtzan/gtzan_demo_transfer_learning.ipynb)"
      ]
    },
    {
      "cell_type": "code",
      "execution_count": 3,
      "metadata": {
        "execution": {
          "iopub.execute_input": "2022-01-29T20:23:53.867589Z",
          "iopub.status.busy": "2022-01-29T20:23:53.866881Z",
          "iopub.status.idle": "2022-01-29T20:24:00.703827Z",
          "shell.execute_reply": "2022-01-29T20:24:00.702643Z",
          "shell.execute_reply.started": "2022-01-29T20:23:53.867543Z"
        },
        "trusted": true,
        "id": "ONEDfB7KP-Fd"
      },
      "outputs": [],
      "source": [
        "# Imports\n",
        "import tensorflow as tf\n",
        "from tensorflow.python.keras.api import keras\n",
        "from tensorflow.python.keras.api.keras.preprocessing.image import ImageDataGenerator\n",
        "from tensorflow.python.keras.api.keras import layers\n",
        "import os\n",
        "from pathlib import Path\n",
        "from IPython.core.display import HTML, display\n",
        "\n",
        "import librosa\n",
        "import random\n",
        "import numpy as np\n",
        "from math import floor\n",
        "from typing import Union, Any"
      ]
    },
    {
      "cell_type": "code",
      "execution_count": 4,
      "metadata": {
        "execution": {
          "iopub.execute_input": "2022-01-29T20:24:00.706585Z",
          "iopub.status.busy": "2022-01-29T20:24:00.706230Z",
          "iopub.status.idle": "2022-01-29T20:24:00.720547Z",
          "shell.execute_reply": "2022-01-29T20:24:00.719450Z",
          "shell.execute_reply.started": "2022-01-29T20:24:00.706526Z"
        },
        "trusted": true,
        "id": "U5pkmgXaP-Fe"
      },
      "outputs": [],
      "source": [
        "def download():\n",
        "  #!pip install kaggle\n",
        "  import os\n",
        "  os.environ['KAGGLE_USERNAME'] = \"jorgeruizdev\"\n",
        "  os.environ['KAGGLE_KEY'] = \"5f3badd86b1d1035e2723792a67a2879\"\n",
        "  !kaggle datasets download -d andradaolteanu/gtzan-dataset-music-genre-classification\n",
        "  !unzip -qq /content/gtzan-dataset-music-genre-classification.zip\n",
        "#download()"
      ]
    },
    {
      "cell_type": "code",
      "execution_count": 5,
      "metadata": {
        "execution": {
          "iopub.execute_input": "2022-01-29T20:24:00.725149Z",
          "iopub.status.busy": "2022-01-29T20:24:00.724859Z",
          "iopub.status.idle": "2022-01-29T20:24:00.904893Z",
          "shell.execute_reply": "2022-01-29T20:24:00.903566Z",
          "shell.execute_reply.started": "2022-01-29T20:24:00.725113Z"
        },
        "trusted": true,
        "id": "n7c7ZS8pP-Ff",
        "colab": {
          "base_uri": "https://localhost:8080/"
        },
        "outputId": "4a467b4c-5ced-4c9b-ae6d-3828e9f6ef7b"
      },
      "outputs": [
        {
          "output_type": "stream",
          "name": "stdout",
          "text": [
            "2.7.0\n",
            "[PhysicalDevice(name='/physical_device:GPU:0', device_type='GPU')]\n"
          ]
        }
      ],
      "source": [
        "print(tf. __version__)\n",
        "print(tf.config.list_physical_devices('GPU'))\n"
      ]
    },
    {
      "cell_type": "code",
      "execution_count": 6,
      "metadata": {
        "execution": {
          "iopub.execute_input": "2022-01-29T20:24:00.908090Z",
          "iopub.status.busy": "2022-01-29T20:24:00.907269Z",
          "iopub.status.idle": "2022-01-29T20:24:00.921762Z",
          "shell.execute_reply": "2022-01-29T20:24:00.920621Z",
          "shell.execute_reply.started": "2022-01-29T20:24:00.908035Z"
        },
        "trusted": true,
        "id": "r9yEssxXP-Ff",
        "colab": {
          "base_uri": "https://localhost:8080/"
        },
        "outputId": "c26945d2-f537-42f9-8951-984fbde3b3e9"
      },
      "outputs": [
        {
          "output_type": "stream",
          "name": "stdout",
          "text": [
            "Samples Per Split 66150\n"
          ]
        }
      ],
      "source": [
        "# CONFIG\n",
        "\n",
        "SAMPLE_RATE = 22050\n",
        "\n",
        "TRACK_LENGTH = 30\n",
        "\n",
        "TRACK_SAMPLES = 22050 * TRACK_LENGTH\n",
        "\n",
        "SPLITS = 10\n",
        "\n",
        "SAMPLES_PER_SPLIT = TRACK_SAMPLES // SPLITS\n",
        "\n",
        "N_MELS = 64\n",
        "\n",
        "print(f\"Samples Per Split {SAMPLES_PER_SPLIT}\")\n",
        "\n",
        "INPUT_SHAPE = (SAMPLES_PER_SPLIT , N_MELS, 1)\n",
        "\n",
        "# Dataset:\n",
        "DATASET_PATH = \"/content/Data\"\n",
        "\n",
        "GENRES_PATH = f\"{DATASET_PATH}/genres_original\"\n",
        "\n",
        "GENRES = os.listdir(GENRES_PATH)\n",
        "\n",
        "\n",
        "\n",
        "# Training\n",
        "BATCH_SIZE = 20\n"
      ]
    },
    {
      "cell_type": "code",
      "execution_count": 7,
      "metadata": {
        "execution": {
          "iopub.execute_input": "2022-01-29T20:24:00.925444Z",
          "iopub.status.busy": "2022-01-29T20:24:00.925202Z",
          "iopub.status.idle": "2022-01-29T20:24:00.933974Z",
          "shell.execute_reply": "2022-01-29T20:24:00.932667Z",
          "shell.execute_reply.started": "2022-01-29T20:24:00.925413Z"
        },
        "trusted": true,
        "id": "7dyK7CF4P-Fg",
        "colab": {
          "base_uri": "https://localhost:8080/"
        },
        "outputId": "83f8bc7c-ecb9-40cd-9128-0c4f016fff4b"
      },
      "outputs": [
        {
          "output_type": "stream",
          "name": "stdout",
          "text": [
            "Genre to Label Dict: {'classical': 0, 'jazz': 1, 'hiphop': 2, 'pop': 3, 'rock': 4, 'disco': 5, 'blues': 6, 'metal': 7, 'country': 8, 'reggae': 9}\n",
            "Label to Genre Dict: {0: 'classical', 1: 'jazz', 2: 'hiphop', 3: 'pop', 4: 'rock', 5: 'disco', 6: 'blues', 7: 'metal', 8: 'country', 9: 'reggae'}\n"
          ]
        }
      ],
      "source": [
        "GENRE_2_LABEL = {k: v for v, k in enumerate(GENRES)}\n",
        "LABEL_2_GENRE = {v: k for k,v in GENRE_2_LABEL.items()}\n",
        "print(f\"Genre to Label Dict: {GENRE_2_LABEL}\")\n",
        "print(f\"Label to Genre Dict: {LABEL_2_GENRE}\")"
      ]
    },
    {
      "cell_type": "code",
      "execution_count": 8,
      "metadata": {
        "execution": {
          "iopub.execute_input": "2022-01-29T20:24:00.937080Z",
          "iopub.status.busy": "2022-01-29T20:24:00.936155Z",
          "iopub.status.idle": "2022-01-29T20:24:00.983849Z",
          "shell.execute_reply": "2022-01-29T20:24:00.982812Z",
          "shell.execute_reply.started": "2022-01-29T20:24:00.937028Z"
        },
        "trusted": true,
        "id": "gpqbcNjFP-Fh"
      },
      "outputs": [],
      "source": [
        "if not len(list(Path(f\"{DATASET_PATH}/genres_original/disco\").glob(\"*.wav\"))) >= 100:\n",
        "  print(f\"\"\"\n",
        "    No subfolder 'genres_original/disco' found under {DATASET_PATH}.\n",
        "    Please download the datasate from https://www.kaggle.com/andradaolteanu/gtzan-dataset-music-genre-classification and\n",
        "    unzip it under {DATASET_PATH}.\n",
        "  \"\"\")\n",
        "  raise IOError\n"
      ]
    },
    {
      "cell_type": "code",
      "source": [
        "def split_track(y, samples_per_split = SAMPLES_PER_SPLIT):\n",
        "\n",
        "    return [y[slice_samp:slice_samp + samples_per_split] for slice_samp in range(0, len(y), samples_per_split) ]\n",
        "\n"
      ],
      "metadata": {
        "id": "1Odq9ar66Tby"
      },
      "execution_count": 9,
      "outputs": []
    },
    {
      "cell_type": "code",
      "source": [
        "def normalize_mfccs(mfcc_feat: np.ndarray):\n",
        "    return np.subtract(mfcc_feat,np.mean(mfcc_feat))\n"
      ],
      "metadata": {
        "id": "sk1bO3UR4sWP"
      },
      "execution_count": 10,
      "outputs": []
    },
    {
      "cell_type": "code",
      "execution_count": 11,
      "metadata": {
        "execution": {
          "iopub.execute_input": "2022-01-29T20:35:49.453253Z",
          "iopub.status.busy": "2022-01-29T20:35:49.452881Z",
          "iopub.status.idle": "2022-01-29T20:35:49.461358Z",
          "shell.execute_reply": "2022-01-29T20:35:49.458903Z",
          "shell.execute_reply.started": "2022-01-29T20:35:49.453218Z"
        },
        "trusted": true,
        "id": "zbCPHEpEP-Fh"
      },
      "outputs": [],
      "source": [
        "def preprocess_track(signal: Union[np.ndarray, Any], sr=SAMPLE_RATE):\n",
        "    mfccs = librosa.feature.mfcc(y=signal, n_mfcc=N_MELS, sr=sr)\n",
        "\n",
        "    #log_S = librosa.amplitude_to_db(mfccs)\n",
        "    #delta = librosa.feature.delta(mfccs, order=1)\n",
        "\n",
        "    return normalize_mfccs(mfccs)"
      ]
    },
    {
      "cell_type": "code",
      "execution_count": 12,
      "metadata": {
        "execution": {
          "iopub.execute_input": "2022-01-29T20:24:00.996021Z",
          "iopub.status.busy": "2022-01-29T20:24:00.995367Z",
          "iopub.status.idle": "2022-01-29T20:24:01.006806Z",
          "shell.execute_reply": "2022-01-29T20:24:01.005617Z",
          "shell.execute_reply.started": "2022-01-29T20:24:00.995974Z"
        },
        "trusted": true,
        "id": "IYKppEdaP-Fi"
      },
      "outputs": [],
      "source": [
        "def load_data(genre_path=GENRES_PATH):\n",
        "    track_input = []\n",
        "    labels = []\n",
        "    for genre in GENRES:\n",
        "        genre_folder = f\"{genre_path}/{genre}\"\n",
        "        label = GENRE_2_LABEL[genre]\n",
        "        for track in os.listdir(genre_folder):\n",
        "\n",
        "            if (track == \"jazz.00054.wav\"):\n",
        "                # This track is broken \n",
        "                continue\n",
        "\n",
        "            y, sr = librosa.load(f\"{genre_folder}/{track}\", sr=SAMPLE_RATE)\n",
        "            \n",
        "            # Split into chunkso f SAMPLES_PER_SPLIT length \n",
        "            splits = split_track(y)\n",
        "\n",
        "            track = []\n",
        "\n",
        "            for split in splits:\n",
        "                \n",
        "                if (len(split) == SAMPLES_PER_SPLIT):\n",
        "                    track.append(preprocess_track(split, sr))\n",
        "            \n",
        "            if len(track):  \n",
        "                track_input.append(track)\n",
        "                labels.append(label)\n",
        "\n",
        "    \n",
        "\n",
        "    return track_input, labels"
      ]
    },
    {
      "cell_type": "code",
      "execution_count": 13,
      "metadata": {
        "execution": {
          "iopub.execute_input": "2022-01-29T20:24:01.011084Z",
          "iopub.status.busy": "2022-01-29T20:24:01.010727Z",
          "iopub.status.idle": "2022-01-29T20:24:01.023427Z",
          "shell.execute_reply": "2022-01-29T20:24:01.022137Z",
          "shell.execute_reply.started": "2022-01-29T20:24:01.011037Z"
        },
        "trusted": true,
        "id": "lNLPNzGnP-Fj"
      },
      "outputs": [],
      "source": [
        "def unison_shuffled_copies(a, b):\n",
        "    assert len(a) == len(b), f\"len(a) = {len(a)} != len(b) = {len(b)}\"\n",
        "    p = np.random.permutation(len(a))\n",
        "    return a[p], b[p]"
      ]
    },
    {
      "cell_type": "code",
      "execution_count": 14,
      "metadata": {
        "execution": {
          "iopub.execute_input": "2022-01-29T20:24:01.025813Z",
          "iopub.status.busy": "2022-01-29T20:24:01.025322Z",
          "iopub.status.idle": "2022-01-29T20:26:01.356746Z",
          "shell.execute_reply": "2022-01-29T20:26:01.355812Z",
          "shell.execute_reply.started": "2022-01-29T20:24:01.025768Z"
        },
        "trusted": true,
        "id": "7OPK7TR3P-Fj"
      },
      "outputs": [],
      "source": [
        "tracks_, labels_ = load_data()"
      ]
    },
    {
      "cell_type": "code",
      "source": [
        ""
      ],
      "metadata": {
        "id": "Ov0lISETVGIe"
      },
      "execution_count": 14,
      "outputs": []
    },
    {
      "cell_type": "code",
      "source": [
        "def train_test_val(ds, test=0.1, val=0.2):\n",
        "\n",
        "\n",
        "    train_slice = floor(len(ds) * (1 - val + test))\n",
        "\n",
        "\n",
        "    train = ds[:train_slice]\n",
        "    rest = ds[train_slice:]\n",
        "\n",
        "    rest_slice =  floor(len(rest) * (1 - (test / ( test + val))))\n",
        "\n",
        "    test = rest[:rest_slice]\n",
        "    val = rest[rest_slice:]\n",
        "\n",
        "    return train, test, val\n"
      ],
      "metadata": {
        "id": "F7ZTFxlj5lAX"
      },
      "execution_count": 15,
      "outputs": []
    },
    {
      "cell_type": "code",
      "source": [
        "class TrackDataGen(keras.utils.Sequence):\n",
        "    \n",
        "    def __init__(self, data,\n",
        "                 input_shape = (13, 259),\n",
        "                 batch_size = 30):\n",
        "        \n",
        "        self.batch_size = batch_size\n",
        "        self.shape = input_shape\n",
        "        X = []\n",
        "        Y = []\n",
        "\n",
        "        for track_splits, labels in data:\n",
        "            X.extend(track_splits)\n",
        "            Y.extend(([labels]* len(track_splits)))\n",
        "\n",
        "        X_np = np.array(X)\n",
        "        X_np = np.expand_dims(X_np, axis=3)\n",
        "        Y_np = np.array(Y)\n",
        "\n",
        "        self.X, self.Y = unison_shuffled_copies(X_np, Y_np)\n",
        "        \n",
        "    \n",
        "    \n",
        "    def on_epoch_end(self):\n",
        "        pass\n",
        "    \n",
        "    def __getitem__(self, idx):\n",
        "        batch_x = self.X[idx * self.batch_size:(idx + 1) * self.batch_size]\n",
        "        batch_y = self.Y[idx * self.batch_size:(idx + 1) * self.batch_size] \n",
        "        \n",
        "        return batch_x, np.array(batch_y)\n",
        "    \n",
        "    def __len__(self):\n",
        "        return len(self.X) // self.batch_size"
      ],
      "metadata": {
        "id": "I36oh6U--LRA"
      },
      "execution_count": 16,
      "outputs": []
    },
    {
      "cell_type": "code",
      "source": [
        "class StopCallback(keras.callbacks.Callback):\n",
        "    def on_epoch_end(self, epoch, logs={}):\n",
        "        if (logs.get(\"accuracy\") or 0) > 0.99:\n",
        "            self.model.stop_training = True\n",
        "stop_callback = StopCallback()"
      ],
      "metadata": {
        "id": "3qG200rHQNSY"
      },
      "execution_count": 17,
      "outputs": []
    },
    {
      "cell_type": "code",
      "execution_count": 18,
      "metadata": {
        "execution": {
          "iopub.execute_input": "2022-01-29T20:26:01.360893Z",
          "iopub.status.busy": "2022-01-29T20:26:01.360686Z",
          "iopub.status.idle": "2022-01-29T20:26:02.497804Z",
          "shell.execute_reply": "2022-01-29T20:26:02.496894Z",
          "shell.execute_reply.started": "2022-01-29T20:26:01.360865Z"
        },
        "trusted": true,
        "id": "gCaUPE6BP-Fj",
        "colab": {
          "base_uri": "https://localhost:8080/"
        },
        "outputId": "07fd8ff5-7716-4547-e329-49508b646425"
      },
      "outputs": [
        {
          "output_type": "stream",
          "name": "stdout",
          "text": [
            "999\n",
            "(30, 64, 130, 1)\n"
          ]
        }
      ],
      "source": [
        "tracks, labels = tracks_, labels_\n",
        "\n",
        "\n",
        "track_labels = list(zip(tracks, labels))\n",
        "\n",
        "random.shuffle(track_labels)\n",
        "\n",
        "train, test, val = train_test_val(track_labels)\n",
        "print(len(train) + len(test) + len(val))\n",
        "\n",
        "\n",
        "train_generator = TrackDataGen(train)\n",
        "print(train_generator[0][0].shape)\n",
        "validation_generator = TrackDataGen(val)\n",
        "\n",
        "\n"
      ]
    },
    {
      "cell_type": "code",
      "source": [
        ""
      ],
      "metadata": {
        "id": "B4QA36sZWFyO"
      },
      "execution_count": 18,
      "outputs": []
    },
    {
      "cell_type": "code",
      "execution_count": 19,
      "metadata": {
        "execution": {
          "iopub.execute_input": "2022-01-29T20:26:02.501759Z",
          "iopub.status.busy": "2022-01-29T20:26:02.499336Z",
          "iopub.status.idle": "2022-01-29T20:27:42.859789Z",
          "shell.execute_reply": "2022-01-29T20:27:42.858736Z",
          "shell.execute_reply.started": "2022-01-29T20:26:02.501710Z"
        },
        "trusted": true,
        "id": "9sDdi9hLP-Fk"
      },
      "outputs": [],
      "source": [
        "base_model = keras.applications.InceptionV3(\n",
        "    include_top=False, \n",
        "    #input_shape=INPUT_SHAPE,\n",
        ")\n",
        "\n",
        "# Freeze the model\n",
        "base_model.trainable = False\n",
        "\n",
        "model = keras.models.Sequential([layers.Conv2D(3,(3,3),padding='same'), base_model, layers.Flatten(), layers.Dense(512, activation=\"relu\"), layers.Dropout(0.2), layers.Dense(10, activation='softmax')]) \n",
        "\n",
        "\n",
        "model.compile(loss = 'sparse_categorical_crossentropy', optimizer='rmsprop', metrics=['accuracy'])\n",
        "\n"
      ]
    },
    {
      "cell_type": "code",
      "source": [
        "history = model.fit(train_generator,\n",
        "                     validation_data = validation_generator, \n",
        "                     #validation_steps = len(tracks) // BATCH_SIZE,\n",
        "                     epochs=1000,\n",
        "                     callbacks = [stop_callback]\n",
        "                     )"
      ],
      "metadata": {
        "id": "RpshCI_hQqlz"
      },
      "execution_count": null,
      "outputs": []
    },
    {
      "cell_type": "code",
      "source": [
        "\n",
        "test_generator = TrackDataGen(test)\n",
        "results = model.evaluate(test_generator)\n",
        "print(\"test loss, test acc:\", results)"
      ],
      "metadata": {
        "id": "h1OypVX_J4hd"
      },
      "execution_count": null,
      "outputs": []
    },
    {
      "cell_type": "code",
      "source": [
        ""
      ],
      "metadata": {
        "id": "gAymI9MpKojF"
      },
      "execution_count": null,
      "outputs": []
    },
    {
      "cell_type": "code",
      "execution_count": null,
      "metadata": {
        "execution": {
          "iopub.execute_input": "2022-01-29T20:46:31.143603Z",
          "iopub.status.busy": "2022-01-29T20:46:31.143286Z",
          "iopub.status.idle": "2022-01-29T20:46:31.557126Z",
          "shell.execute_reply": "2022-01-29T20:46:31.554094Z",
          "shell.execute_reply.started": "2022-01-29T20:46:31.143568Z"
        },
        "trusted": true,
        "id": "cAQttoN-P-Fk"
      },
      "outputs": [],
      "source": [
        "import matplotlib.pyplot as plt\n",
        "acc = history.history['accuracy']\n",
        "val_acc = history.history['val_accuracy']\n",
        "loss = history.history['loss']\n",
        "val_loss = history.history['val_loss']\n",
        "\n",
        "epochs = range(len(acc))\n",
        "\n",
        "plt.plot(epochs, acc, 'r', label='Training accuracy')\n",
        "plt.plot(epochs, val_acc, 'b', label='Validation accuracy')\n",
        "plt.title('Training and validation accuracy')\n",
        "plt.legend(loc=0)\n",
        "plt.figure()\n",
        "\n",
        "\n",
        "plt.show()"
      ]
    },
    {
      "cell_type": "code",
      "source": [
        "model.save('/tmp/keras_model')"
      ],
      "metadata": {
        "id": "9ScyKY0iBpAa"
      },
      "execution_count": null,
      "outputs": []
    },
    {
      "cell_type": "code",
      "execution_count": null,
      "metadata": {
        "execution": {
          "iopub.execute_input": "2022-01-29T20:45:37.786868Z",
          "iopub.status.busy": "2022-01-29T20:45:37.786536Z",
          "iopub.status.idle": "2022-01-29T20:45:43.449248Z",
          "shell.execute_reply": "2022-01-29T20:45:43.447971Z",
          "shell.execute_reply.started": "2022-01-29T20:45:37.786833Z"
        },
        "trusted": true,
        "id": "vhgX3FR5P-Fk"
      },
      "outputs": [],
      "source": [
        "import requests\n",
        "from IPython import display\n",
        "url = input()\n",
        "r = requests.get(url, allow_redirects=True)\n",
        "open('test.mp3', 'wb').write(r.content)\n",
        "\n",
        "Y, sr = librosa.load('test.mp3')\n",
        "\n",
        "display.Audio(\"test.mp3\")"
      ]
    },
    {
      "cell_type": "code",
      "source": [
        "splits = []\n",
        "\n",
        "for split in split_track(Y):\n",
        "    if len(split) == SAMPLES_PER_SPLIT:\n",
        "        splits.append(preprocess_track(split))\n",
        "\n",
        "print(np.array(splits).shape)\n",
        "pred = model.predict(np.expand_dims(splits, axis=3))\n",
        "#print(pred)\n",
        "pred2 = pred.sum(axis=0)\n",
        "print(pred2)\n",
        "print(LABEL_2_GENRE)\n",
        "print(LABEL_2_GENRE.get(np.argmax(pred2)))\n",
        "\n"
      ],
      "metadata": {
        "id": "X-ODq4iODBHN"
      },
      "execution_count": null,
      "outputs": []
    }
  ],
  "metadata": {
    "kernelspec": {
      "display_name": "Python 3",
      "language": "python",
      "name": "python3"
    },
    "language_info": {
      "codemirror_mode": {
        "name": "ipython",
        "version": 3
      },
      "file_extension": ".py",
      "mimetype": "text/x-python",
      "name": "python",
      "nbconvert_exporter": "python",
      "pygments_lexer": "ipython3",
      "version": "3.8.12"
    },
    "colab": {
      "name": "gtzan_demo_train.ipynb",
      "provenance": []
    },
    "accelerator": "GPU"
  },
  "nbformat": 4,
  "nbformat_minor": 0
}