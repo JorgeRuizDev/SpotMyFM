{
  "cells": [
    {
      "cell_type": "code",
      "execution_count": 102,
      "metadata": {
        "execution": {
          "iopub.execute_input": "2022-01-29T20:23:53.858155Z",
          "iopub.status.busy": "2022-01-29T20:23:53.856814Z",
          "iopub.status.idle": "2022-01-29T20:23:53.864056Z",
          "shell.execute_reply": "2022-01-29T20:23:53.862669Z",
          "shell.execute_reply.started": "2022-01-29T20:23:53.858104Z"
        },
        "trusted": true,
        "id": "Qv0vR00IP-FZ"
      },
      "outputs": [],
      "source": [
        "#!pip install tensorflow librosa"
      ]
    },
    {
      "cell_type": "markdown",
      "metadata": {
        "id": "iJQ9_KkJP-Fc"
      },
      "source": [
        "[![Open In Colab](https://colab.research.google.com/assets/colab-badge.svg)](https://colab.research.google.com/github/JorgeRuizDev/SpotMyFM/blob/main/Ludwig/notebooks/gtzan/gtzan_demo_train.ipynb)\n",
        "[![Kaggle](https://kaggle.com/static/images/open-in-kaggle.svg)](https://kaggle.com/kernels/welcome?src=https://github.com/JorgeRuizDev/SpotMyFM/blob/main/Ludwig/notebooks/gtzan/gtzan_demo_train.ipynb)"
      ]
    },
    {
      "cell_type": "code",
      "execution_count": 103,
      "metadata": {
        "execution": {
          "iopub.execute_input": "2022-01-29T20:23:53.867589Z",
          "iopub.status.busy": "2022-01-29T20:23:53.866881Z",
          "iopub.status.idle": "2022-01-29T20:24:00.703827Z",
          "shell.execute_reply": "2022-01-29T20:24:00.702643Z",
          "shell.execute_reply.started": "2022-01-29T20:23:53.867543Z"
        },
        "trusted": true,
        "id": "ONEDfB7KP-Fd"
      },
      "outputs": [],
      "source": [
        "# Imports\n",
        "import tensorflow as tf\n",
        "from tensorflow.python.keras.api import keras\n",
        "from tensorflow.python.keras.api.keras.preprocessing.image import ImageDataGenerator\n",
        "\n",
        "import os\n",
        "from pathlib import Path\n",
        "from IPython.core.display import HTML, display\n",
        "\n",
        "import librosa\n",
        "import random\n",
        "import numpy as np\n",
        "from math import floor\n",
        "from typing import Union, Any"
      ]
    },
    {
      "cell_type": "code",
      "execution_count": 104,
      "metadata": {
        "execution": {
          "iopub.execute_input": "2022-01-29T20:24:00.706585Z",
          "iopub.status.busy": "2022-01-29T20:24:00.706230Z",
          "iopub.status.idle": "2022-01-29T20:24:00.720547Z",
          "shell.execute_reply": "2022-01-29T20:24:00.719450Z",
          "shell.execute_reply.started": "2022-01-29T20:24:00.706526Z"
        },
        "trusted": true,
        "id": "U5pkmgXaP-Fe"
      },
      "outputs": [],
      "source": [
        "def download():\n",
        "  #!pip install kaggle\n",
        "  import os\n",
        "  os.environ['KAGGLE_USERNAME'] = \"jorgeruizdev\"\n",
        "  os.environ['KAGGLE_KEY'] = \"5f3badd86b1d1035e2723792a67a2879\"\n",
        "  !kaggle datasets download -d andradaolteanu/gtzan-dataset-music-genre-classification\n",
        "  !unzip -qq /content/gtzan-dataset-music-genre-classification.zip\n",
        "#download()"
      ]
    },
    {
      "cell_type": "code",
      "execution_count": 105,
      "metadata": {
        "execution": {
          "iopub.execute_input": "2022-01-29T20:24:00.725149Z",
          "iopub.status.busy": "2022-01-29T20:24:00.724859Z",
          "iopub.status.idle": "2022-01-29T20:24:00.904893Z",
          "shell.execute_reply": "2022-01-29T20:24:00.903566Z",
          "shell.execute_reply.started": "2022-01-29T20:24:00.725113Z"
        },
        "trusted": true,
        "colab": {
          "base_uri": "https://localhost:8080/"
        },
        "id": "n7c7ZS8pP-Ff",
        "outputId": "efd8f5e5-0331-4742-d80b-f660d772aae3"
      },
      "outputs": [
        {
          "output_type": "stream",
          "name": "stdout",
          "text": [
            "2.7.0\n",
            "[PhysicalDevice(name='/physical_device:GPU:0', device_type='GPU')]\n"
          ]
        }
      ],
      "source": [
        "print(tf. __version__)\n",
        "print(tf.config.list_physical_devices('GPU'))\n"
      ]
    },
    {
      "cell_type": "code",
      "execution_count": 106,
      "metadata": {
        "execution": {
          "iopub.execute_input": "2022-01-29T20:24:00.908090Z",
          "iopub.status.busy": "2022-01-29T20:24:00.907269Z",
          "iopub.status.idle": "2022-01-29T20:24:00.921762Z",
          "shell.execute_reply": "2022-01-29T20:24:00.920621Z",
          "shell.execute_reply.started": "2022-01-29T20:24:00.908035Z"
        },
        "trusted": true,
        "id": "r9yEssxXP-Ff",
        "colab": {
          "base_uri": "https://localhost:8080/"
        },
        "outputId": "43f3be69-5391-4cb9-cd51-53ec657b790d"
      },
      "outputs": [
        {
          "output_type": "stream",
          "name": "stdout",
          "text": [
            "Samples Per Split 661500\n"
          ]
        }
      ],
      "source": [
        "# CONFIG\n",
        "\n",
        "SAMPLE_RATE = 22050\n",
        "\n",
        "TRACK_LENGTH = 30\n",
        "\n",
        "TRACK_SAMPLES = 22050 * TRACK_LENGTH\n",
        "\n",
        "SPLITS = 1\n",
        "\n",
        "SAMPLES_PER_SPLIT = TRACK_SAMPLES // SPLITS\n",
        "\n",
        "N_MELS = 64\n",
        "\n",
        "print(f\"Samples Per Split {SAMPLES_PER_SPLIT}\")\n",
        "\n",
        "# Dataset:\n",
        "DATASET_PATH = \"/content/Data\"\n",
        "\n",
        "GENRES_PATH = f\"{DATASET_PATH}/genres_original\"\n",
        "\n",
        "GENRES = os.listdir(GENRES_PATH)\n",
        "\n",
        "\n",
        "\n",
        "# Training\n",
        "BATCH_SIZE = 20\n"
      ]
    },
    {
      "cell_type": "code",
      "execution_count": 107,
      "metadata": {
        "execution": {
          "iopub.execute_input": "2022-01-29T20:24:00.925444Z",
          "iopub.status.busy": "2022-01-29T20:24:00.925202Z",
          "iopub.status.idle": "2022-01-29T20:24:00.933974Z",
          "shell.execute_reply": "2022-01-29T20:24:00.932667Z",
          "shell.execute_reply.started": "2022-01-29T20:24:00.925413Z"
        },
        "trusted": true,
        "colab": {
          "base_uri": "https://localhost:8080/"
        },
        "id": "7dyK7CF4P-Fg",
        "outputId": "14d8077c-f3cd-4faa-eea2-4e7ae5f07ecc"
      },
      "outputs": [
        {
          "output_type": "stream",
          "name": "stdout",
          "text": [
            "Genre to Label Dict: {'classical': 0, 'jazz': 1, 'hiphop': 2, 'pop': 3, 'rock': 4, 'disco': 5, 'blues': 6, 'metal': 7, 'country': 8, 'reggae': 9}\n",
            "Label to Genre Dict: {0: 'classical', 1: 'jazz', 2: 'hiphop', 3: 'pop', 4: 'rock', 5: 'disco', 6: 'blues', 7: 'metal', 8: 'country', 9: 'reggae'}\n"
          ]
        }
      ],
      "source": [
        "GENRE_2_LABEL = {k: v for v, k in enumerate(GENRES)}\n",
        "LABEL_2_GENRE = {v: k for k,v in GENRE_2_LABEL.items()}\n",
        "print(f\"Genre to Label Dict: {GENRE_2_LABEL}\")\n",
        "print(f\"Label to Genre Dict: {LABEL_2_GENRE}\")"
      ]
    },
    {
      "cell_type": "code",
      "execution_count": 108,
      "metadata": {
        "execution": {
          "iopub.execute_input": "2022-01-29T20:24:00.937080Z",
          "iopub.status.busy": "2022-01-29T20:24:00.936155Z",
          "iopub.status.idle": "2022-01-29T20:24:00.983849Z",
          "shell.execute_reply": "2022-01-29T20:24:00.982812Z",
          "shell.execute_reply.started": "2022-01-29T20:24:00.937028Z"
        },
        "trusted": true,
        "id": "gpqbcNjFP-Fh"
      },
      "outputs": [],
      "source": [
        "if not len(list(Path(f\"{DATASET_PATH}/genres_original/disco\").glob(\"*.wav\"))) >= 100:\n",
        "  print(f\"\"\"\n",
        "    No subfolder 'genres_original/disco' found under {DATASET_PATH}.\n",
        "    Please download the datasate from https://www.kaggle.com/andradaolteanu/gtzan-dataset-music-genre-classification and\n",
        "    unzip it under {DATASET_PATH}.\n",
        "  \"\"\")\n",
        "  raise IOError\n"
      ]
    },
    {
      "cell_type": "code",
      "source": [
        "def split_track(signal, splits = 5):\n",
        "    samples_per_split = len(signal) // splits\n",
        "    max_split = samples_per_split * splits\n",
        "\n",
        "    return np.array_split(signal[:max_split], splits)\n",
        "\n"
      ],
      "metadata": {
        "id": "1Odq9ar66Tby"
      },
      "execution_count": 109,
      "outputs": []
    },
    {
      "cell_type": "code",
      "source": [
        "def normalize_mfccs(mfcc_feat: np.ndarray):\n",
        "    return np.subtract(mfcc_feat,np.mean(mfcc_feat))\n"
      ],
      "metadata": {
        "id": "sk1bO3UR4sWP"
      },
      "execution_count": 110,
      "outputs": []
    },
    {
      "cell_type": "code",
      "execution_count": 111,
      "metadata": {
        "execution": {
          "iopub.execute_input": "2022-01-29T20:35:49.453253Z",
          "iopub.status.busy": "2022-01-29T20:35:49.452881Z",
          "iopub.status.idle": "2022-01-29T20:35:49.461358Z",
          "shell.execute_reply": "2022-01-29T20:35:49.458903Z",
          "shell.execute_reply.started": "2022-01-29T20:35:49.453218Z"
        },
        "trusted": true,
        "id": "zbCPHEpEP-Fh"
      },
      "outputs": [],
      "source": [
        "def preprocess_track(signal: Union[np.ndarray, Any], sr=SAMPLE_RATE):\n",
        "    mfccs = librosa.feature.melspectrogram(signal, sr=sr, n_mels=N_MELS)\n",
        "\n",
        "    #log_S = librosa.amplitude_to_db(mfccs)\n",
        "    #delta = librosa.feature.delta(mfccs, order=1)\n",
        "\n",
        "    return normalize_mfccs(mfccs)"
      ]
    },
    {
      "cell_type": "code",
      "execution_count": 112,
      "metadata": {
        "execution": {
          "iopub.execute_input": "2022-01-29T20:24:00.996021Z",
          "iopub.status.busy": "2022-01-29T20:24:00.995367Z",
          "iopub.status.idle": "2022-01-29T20:24:01.006806Z",
          "shell.execute_reply": "2022-01-29T20:24:01.005617Z",
          "shell.execute_reply.started": "2022-01-29T20:24:00.995974Z"
        },
        "trusted": true,
        "id": "IYKppEdaP-Fi"
      },
      "outputs": [],
      "source": [
        "def load_data(genre_path=GENRES_PATH):\n",
        "    track_input = []\n",
        "    labels = []\n",
        "    for genre in GENRES:\n",
        "        genre_folder = f\"{genre_path}/{genre}\"\n",
        "        label = GENRE_2_LABEL[genre]\n",
        "        for track in os.listdir(genre_folder):\n",
        "\n",
        "            if (track == \"jazz.00054.wav\"):\n",
        "                # This track is broken \n",
        "                continue\n",
        "\n",
        "            y, sr = librosa.load(f\"{genre_folder}/{track}\", sr=SAMPLE_RATE)\n",
        "            \n",
        "            # Split into chunkso f SAMPLES_PER_SPLIT length \n",
        "            splits = [y[slice_samp:slice_samp + SAMPLES_PER_SPLIT] for slice_samp in range(0, len(y), SAMPLES_PER_SPLIT) ]\n",
        "\n",
        "            track = []\n",
        "\n",
        "            for split in splits:\n",
        "                \n",
        "                if (len(split) == SAMPLES_PER_SPLIT):\n",
        "                    track.append(preprocess_track(split, sr))\n",
        "            \n",
        "            if len(track):  \n",
        "                track_input.append(track)\n",
        "                labels.append(label)\n",
        "\n",
        "    \n",
        "\n",
        "    return track_input, labels"
      ]
    },
    {
      "cell_type": "code",
      "execution_count": 113,
      "metadata": {
        "execution": {
          "iopub.execute_input": "2022-01-29T20:24:01.011084Z",
          "iopub.status.busy": "2022-01-29T20:24:01.010727Z",
          "iopub.status.idle": "2022-01-29T20:24:01.023427Z",
          "shell.execute_reply": "2022-01-29T20:24:01.022137Z",
          "shell.execute_reply.started": "2022-01-29T20:24:01.011037Z"
        },
        "trusted": true,
        "id": "lNLPNzGnP-Fj"
      },
      "outputs": [],
      "source": [
        "def unison_shuffled_copies(a, b):\n",
        "    assert len(a) == len(b), f\"len(a) = {len(a)} != len(b) = {len(b)}\"\n",
        "    p = np.random.permutation(len(a))\n",
        "    return a[p], b[p]"
      ]
    },
    {
      "cell_type": "code",
      "execution_count": 114,
      "metadata": {
        "execution": {
          "iopub.execute_input": "2022-01-29T20:24:01.025813Z",
          "iopub.status.busy": "2022-01-29T20:24:01.025322Z",
          "iopub.status.idle": "2022-01-29T20:26:01.356746Z",
          "shell.execute_reply": "2022-01-29T20:26:01.355812Z",
          "shell.execute_reply.started": "2022-01-29T20:24:01.025768Z"
        },
        "trusted": true,
        "id": "7OPK7TR3P-Fj"
      },
      "outputs": [],
      "source": [
        "tracks_, labels_ = load_data()"
      ]
    },
    {
      "cell_type": "code",
      "source": [
        ""
      ],
      "metadata": {
        "id": "Ov0lISETVGIe"
      },
      "execution_count": 114,
      "outputs": []
    },
    {
      "cell_type": "code",
      "source": [
        "def train_test_val(ds, test=0.1, val=0.2):\n",
        "\n",
        "\n",
        "    train_slice = floor(len(ds) * (1 - val + test))\n",
        "\n",
        "\n",
        "    train = ds[:train_slice]\n",
        "    rest = ds[train_slice:]\n",
        "\n",
        "    rest_slice =  floor(len(rest) * (1 - (test / ( test + val))))\n",
        "\n",
        "    test = rest[:rest_slice]\n",
        "    val = rest[rest_slice:]\n",
        "\n",
        "    return train, test, val\n"
      ],
      "metadata": {
        "id": "F7ZTFxlj5lAX"
      },
      "execution_count": 115,
      "outputs": []
    },
    {
      "cell_type": "code",
      "source": [
        "\n",
        "class TrackDataGen(keras.utils.Sequence):\n",
        "    \n",
        "    def __init__(self, data,\n",
        "                 input_shape = (13, 259),\n",
        "                 batch_size = 30):\n",
        "        \n",
        "        self.batch_size = batch_size\n",
        "        self.shape = input_shape\n",
        "        X = []\n",
        "        Y = []\n",
        "\n",
        "        for track_splits, labels in data:\n",
        "            X.extend(track_splits)\n",
        "            Y.extend(([labels]* len(track_splits)))\n",
        "\n",
        "        X_np = np.array(X)\n",
        "        X_np = np.expand_dims(X_np, axis=3)\n",
        "        Y_np = np.array(Y)\n",
        "\n",
        "        self.X, self.Y = unison_shuffled_copies(X_np, Y_np)\n",
        "        \n",
        "    \n",
        "    \n",
        "    def on_epoch_end(self):\n",
        "        pass\n",
        "    \n",
        "    def __getitem__(self, idx):\n",
        "        batch_x = self.X[idx * self.batch_size:(idx + 1) * self.batch_size]\n",
        "        batch_y = self.Y[idx * self.batch_size:(idx + 1) * self.batch_size] \n",
        "        \n",
        "        return batch_x, np.array(batch_y)\n",
        "    \n",
        "    def __len__(self):\n",
        "        return len(self.X) // self.batch_size"
      ],
      "metadata": {
        "id": "I36oh6U--LRA"
      },
      "execution_count": 116,
      "outputs": []
    },
    {
      "cell_type": "code",
      "execution_count": 135,
      "metadata": {
        "execution": {
          "iopub.execute_input": "2022-01-29T20:26:01.360893Z",
          "iopub.status.busy": "2022-01-29T20:26:01.360686Z",
          "iopub.status.idle": "2022-01-29T20:26:02.497804Z",
          "shell.execute_reply": "2022-01-29T20:26:02.496894Z",
          "shell.execute_reply.started": "2022-01-29T20:26:01.360865Z"
        },
        "trusted": true,
        "id": "gCaUPE6BP-Fj",
        "colab": {
          "base_uri": "https://localhost:8080/"
        },
        "outputId": "c14e12b9-251a-40cd-f00e-604c7a605910"
      },
      "outputs": [
        {
          "output_type": "stream",
          "name": "stdout",
          "text": [
            "990\n",
            "(30, 64, 1292, 1)\n"
          ]
        }
      ],
      "source": [
        "tracks, labels = tracks_, labels_\n",
        "\n",
        "\n",
        "track_labels = list(zip(tracks, labels))\n",
        "\n",
        "random.shuffle(track_labels)\n",
        "\n",
        "train, test, val = train_test_val(track_labels)\n",
        "print(len(train) + len(test) + len(val))\n",
        "\n",
        "\n",
        "train_generator = TrackDataGen(train)\n",
        "print(train_generator[0][0].shape)\n",
        "validation_generator = TrackDataGen(val)\n",
        "\n",
        "\n"
      ]
    },
    {
      "cell_type": "code",
      "source": [
        ""
      ],
      "metadata": {
        "id": "B4QA36sZWFyO"
      },
      "execution_count": 117,
      "outputs": []
    },
    {
      "cell_type": "code",
      "execution_count": 118,
      "metadata": {
        "execution": {
          "iopub.execute_input": "2022-01-29T20:26:02.501759Z",
          "iopub.status.busy": "2022-01-29T20:26:02.499336Z",
          "iopub.status.idle": "2022-01-29T20:27:42.859789Z",
          "shell.execute_reply": "2022-01-29T20:27:42.858736Z",
          "shell.execute_reply.started": "2022-01-29T20:26:02.501710Z"
        },
        "trusted": true,
        "id": "9sDdi9hLP-Fk",
        "colab": {
          "base_uri": "https://localhost:8080/"
        },
        "outputId": "e8279ed5-13c1-4baf-cc04-0b4425b5cca3"
      },
      "outputs": [
        {
          "output_type": "stream",
          "name": "stdout",
          "text": [
            "Epoch 1/100\n",
            "29/29 [==============================] - 5s 138ms/step - loss: 2.7585 - accuracy: 0.1379 - val_loss: 2.3369 - val_accuracy: 0.1333\n",
            "Epoch 2/100\n",
            "29/29 [==============================] - 4s 129ms/step - loss: 2.1750 - accuracy: 0.2011 - val_loss: 2.0706 - val_accuracy: 0.3333\n",
            "Epoch 3/100\n",
            "29/29 [==============================] - 4s 129ms/step - loss: 2.1861 - accuracy: 0.2770 - val_loss: 2.1945 - val_accuracy: 0.3000\n",
            "Epoch 4/100\n",
            "29/29 [==============================] - 4s 128ms/step - loss: 1.7257 - accuracy: 0.4149 - val_loss: 2.2445 - val_accuracy: 0.3333\n",
            "Epoch 5/100\n",
            "29/29 [==============================] - 4s 136ms/step - loss: 1.4387 - accuracy: 0.5333 - val_loss: 2.2821 - val_accuracy: 0.3333\n",
            "Epoch 6/100\n",
            "29/29 [==============================] - 4s 144ms/step - loss: 0.9424 - accuracy: 0.7023 - val_loss: 2.8922 - val_accuracy: 0.3667\n",
            "Epoch 7/100\n",
            "29/29 [==============================] - 4s 140ms/step - loss: 0.7107 - accuracy: 0.8069 - val_loss: 3.2096 - val_accuracy: 0.4000\n",
            "Epoch 8/100\n",
            "29/29 [==============================] - 4s 138ms/step - loss: 0.4925 - accuracy: 0.8644 - val_loss: 3.5079 - val_accuracy: 0.4333\n",
            "Epoch 9/100\n",
            "29/29 [==============================] - 4s 136ms/step - loss: 0.4245 - accuracy: 0.9138 - val_loss: 5.9207 - val_accuracy: 0.4333\n",
            "Epoch 10/100\n",
            "29/29 [==============================] - 4s 130ms/step - loss: 0.4826 - accuracy: 0.9103 - val_loss: 5.2623 - val_accuracy: 0.4333\n",
            "Epoch 11/100\n",
            "29/29 [==============================] - 4s 137ms/step - loss: 0.3751 - accuracy: 0.9391 - val_loss: 6.2696 - val_accuracy: 0.5000\n",
            "Epoch 12/100\n",
            "29/29 [==============================] - 4s 146ms/step - loss: 0.1233 - accuracy: 0.9782 - val_loss: 9.5503 - val_accuracy: 0.3667\n",
            "Epoch 13/100\n",
            "29/29 [==============================] - 4s 136ms/step - loss: 0.3299 - accuracy: 0.9379 - val_loss: 7.0951 - val_accuracy: 0.4667\n",
            "Epoch 14/100\n",
            "29/29 [==============================] - 4s 137ms/step - loss: 0.1634 - accuracy: 0.9759 - val_loss: 6.2933 - val_accuracy: 0.4000\n",
            "Epoch 15/100\n",
            "29/29 [==============================] - 4s 137ms/step - loss: 0.4156 - accuracy: 0.9471 - val_loss: 6.5392 - val_accuracy: 0.3333\n",
            "Epoch 16/100\n",
            "29/29 [==============================] - 4s 130ms/step - loss: 0.1267 - accuracy: 0.9816 - val_loss: 9.3607 - val_accuracy: 0.4333\n",
            "Epoch 17/100\n",
            "29/29 [==============================] - 4s 130ms/step - loss: 0.1034 - accuracy: 0.9759 - val_loss: 10.6120 - val_accuracy: 0.4333\n",
            "Epoch 18/100\n",
            "29/29 [==============================] - 4s 128ms/step - loss: 0.0903 - accuracy: 0.9828 - val_loss: 9.1448 - val_accuracy: 0.4333\n",
            "Epoch 19/100\n",
            "29/29 [==============================] - 4s 131ms/step - loss: 0.0899 - accuracy: 0.9828 - val_loss: 7.7221 - val_accuracy: 0.4333\n",
            "Epoch 20/100\n",
            "29/29 [==============================] - 4s 128ms/step - loss: 0.0011 - accuracy: 1.0000 - val_loss: 11.7018 - val_accuracy: 0.3000\n",
            "Epoch 21/100\n",
            "29/29 [==============================] - 4s 130ms/step - loss: 0.6232 - accuracy: 0.9310 - val_loss: 9.7813 - val_accuracy: 0.3667\n",
            "Epoch 22/100\n",
            "29/29 [==============================] - 4s 128ms/step - loss: 0.0825 - accuracy: 0.9851 - val_loss: 9.2321 - val_accuracy: 0.4000\n",
            "Epoch 23/100\n",
            "29/29 [==============================] - 4s 131ms/step - loss: 0.0023 - accuracy: 0.9989 - val_loss: 10.4714 - val_accuracy: 0.4333\n",
            "Epoch 24/100\n",
            "29/29 [==============================] - 4s 128ms/step - loss: 1.9882e-04 - accuracy: 1.0000 - val_loss: 11.1159 - val_accuracy: 0.4333\n",
            "Epoch 25/100\n",
            "29/29 [==============================] - 4s 130ms/step - loss: 0.8245 - accuracy: 0.9471 - val_loss: 7.4013 - val_accuracy: 0.4000\n",
            "Epoch 26/100\n",
            "29/29 [==============================] - 4s 129ms/step - loss: 0.0651 - accuracy: 0.9828 - val_loss: 6.9224 - val_accuracy: 0.4667\n",
            "Epoch 27/100\n",
            "29/29 [==============================] - 4s 129ms/step - loss: 0.1179 - accuracy: 0.9828 - val_loss: 8.3989 - val_accuracy: 0.3667\n",
            "Epoch 28/100\n",
            "29/29 [==============================] - 4s 128ms/step - loss: 0.0024 - accuracy: 1.0000 - val_loss: 8.9124 - val_accuracy: 0.3667\n",
            "Epoch 29/100\n",
            "29/29 [==============================] - 4s 130ms/step - loss: 0.2050 - accuracy: 0.9655 - val_loss: 8.8247 - val_accuracy: 0.3000\n",
            "Epoch 30/100\n",
            "29/29 [==============================] - 4s 129ms/step - loss: 0.1374 - accuracy: 0.9851 - val_loss: 7.0709 - val_accuracy: 0.4000\n",
            "Epoch 31/100\n",
            "29/29 [==============================] - 4s 128ms/step - loss: 0.2594 - accuracy: 0.9667 - val_loss: 8.4184 - val_accuracy: 0.3667\n",
            "Epoch 32/100\n",
            "29/29 [==============================] - 4s 129ms/step - loss: 0.1097 - accuracy: 0.9862 - val_loss: 8.2892 - val_accuracy: 0.4000\n",
            "Epoch 33/100\n",
            "29/29 [==============================] - 4s 129ms/step - loss: 8.3506e-04 - accuracy: 1.0000 - val_loss: 9.2018 - val_accuracy: 0.4000\n",
            "Epoch 34/100\n",
            "29/29 [==============================] - 4s 129ms/step - loss: 1.1671e-04 - accuracy: 1.0000 - val_loss: 10.0523 - val_accuracy: 0.4000\n",
            "Epoch 35/100\n",
            "29/29 [==============================] - 4s 130ms/step - loss: 0.1600 - accuracy: 0.9885 - val_loss: 9.5852 - val_accuracy: 0.3000\n",
            "Epoch 36/100\n",
            "29/29 [==============================] - 4s 129ms/step - loss: 0.1694 - accuracy: 0.9747 - val_loss: 9.4141 - val_accuracy: 0.4000\n",
            "Epoch 37/100\n",
            "29/29 [==============================] - 4s 130ms/step - loss: 0.0148 - accuracy: 0.9966 - val_loss: 12.9339 - val_accuracy: 0.4000\n",
            "Epoch 38/100\n",
            "29/29 [==============================] - 4s 129ms/step - loss: 0.4956 - accuracy: 0.9632 - val_loss: 9.8090 - val_accuracy: 0.3667\n",
            "Epoch 39/100\n",
            "29/29 [==============================] - 4s 130ms/step - loss: 0.0148 - accuracy: 0.9989 - val_loss: 10.8190 - val_accuracy: 0.3333\n",
            "Epoch 40/100\n",
            "29/29 [==============================] - 4s 129ms/step - loss: 0.0235 - accuracy: 0.9931 - val_loss: 18.7170 - val_accuracy: 0.2667\n",
            "Epoch 41/100\n",
            "29/29 [==============================] - 4s 129ms/step - loss: 0.4027 - accuracy: 0.9575 - val_loss: 9.9018 - val_accuracy: 0.3667\n",
            "Epoch 42/100\n",
            "29/29 [==============================] - 4s 129ms/step - loss: 0.3992 - accuracy: 0.9609 - val_loss: 11.9517 - val_accuracy: 0.3667\n",
            "Epoch 43/100\n",
            "29/29 [==============================] - 4s 129ms/step - loss: 0.0974 - accuracy: 0.9885 - val_loss: 13.2406 - val_accuracy: 0.4000\n",
            "Epoch 44/100\n",
            "29/29 [==============================] - 4s 129ms/step - loss: 2.3046e-04 - accuracy: 1.0000 - val_loss: 13.4014 - val_accuracy: 0.4000\n",
            "Epoch 45/100\n",
            "29/29 [==============================] - 4s 129ms/step - loss: 8.3453e-05 - accuracy: 1.0000 - val_loss: 13.9842 - val_accuracy: 0.4000\n",
            "Epoch 46/100\n",
            "29/29 [==============================] - 4s 129ms/step - loss: 1.9331e-05 - accuracy: 1.0000 - val_loss: 15.0179 - val_accuracy: 0.4000\n",
            "Epoch 47/100\n",
            "29/29 [==============================] - 4s 129ms/step - loss: 4.9609e-06 - accuracy: 1.0000 - val_loss: 16.2056 - val_accuracy: 0.4000\n",
            "Epoch 48/100\n",
            "29/29 [==============================] - 4s 129ms/step - loss: 0.1733 - accuracy: 0.9805 - val_loss: 17.2291 - val_accuracy: 0.3667\n",
            "Epoch 49/100\n",
            "29/29 [==============================] - 4s 130ms/step - loss: 0.0519 - accuracy: 0.9885 - val_loss: 15.1825 - val_accuracy: 0.3667\n",
            "Epoch 50/100\n",
            "29/29 [==============================] - 4s 128ms/step - loss: 0.0738 - accuracy: 0.9931 - val_loss: 11.9734 - val_accuracy: 0.4000\n",
            "Epoch 51/100\n",
            "29/29 [==============================] - 4s 130ms/step - loss: 0.0036 - accuracy: 0.9977 - val_loss: 15.2005 - val_accuracy: 0.4000\n",
            "Epoch 52/100\n",
            "29/29 [==============================] - 4s 130ms/step - loss: 3.1106e-05 - accuracy: 1.0000 - val_loss: 15.4629 - val_accuracy: 0.4000\n",
            "Epoch 53/100\n",
            "29/29 [==============================] - 4s 129ms/step - loss: 7.2145e-06 - accuracy: 1.0000 - val_loss: 15.8105 - val_accuracy: 0.4000\n",
            "Epoch 54/100\n",
            "29/29 [==============================] - 4s 128ms/step - loss: 2.4039e-06 - accuracy: 1.0000 - val_loss: 16.5652 - val_accuracy: 0.4000\n",
            "Epoch 55/100\n",
            "29/29 [==============================] - 4s 130ms/step - loss: 7.3005e-07 - accuracy: 1.0000 - val_loss: 17.4228 - val_accuracy: 0.4000\n",
            "Epoch 56/100\n",
            "29/29 [==============================] - 4s 129ms/step - loss: 1.8566e-07 - accuracy: 1.0000 - val_loss: 18.5688 - val_accuracy: 0.4000\n",
            "Epoch 57/100\n",
            "29/29 [==============================] - 4s 128ms/step - loss: 4.0147e-08 - accuracy: 1.0000 - val_loss: 19.3886 - val_accuracy: 0.4000\n",
            "Epoch 58/100\n",
            "29/29 [==============================] - 4s 128ms/step - loss: 1.2195e-08 - accuracy: 1.0000 - val_loss: 20.2632 - val_accuracy: 0.4000\n",
            "Epoch 59/100\n",
            "29/29 [==============================] - 4s 130ms/step - loss: 3.6996e-09 - accuracy: 1.0000 - val_loss: 20.6178 - val_accuracy: 0.4000\n",
            "Epoch 60/100\n",
            "29/29 [==============================] - 4s 129ms/step - loss: 3.4256e-09 - accuracy: 1.0000 - val_loss: 21.8389 - val_accuracy: 0.4000\n",
            "Epoch 61/100\n",
            "29/29 [==============================] - 4s 129ms/step - loss: 0.3234 - accuracy: 0.9655 - val_loss: 14.4741 - val_accuracy: 0.4000\n",
            "Epoch 62/100\n",
            "29/29 [==============================] - 4s 128ms/step - loss: 0.1289 - accuracy: 0.9874 - val_loss: 23.4215 - val_accuracy: 0.3333\n",
            "Epoch 63/100\n",
            "29/29 [==============================] - 4s 129ms/step - loss: 0.3023 - accuracy: 0.9793 - val_loss: 14.8093 - val_accuracy: 0.3333\n",
            "Epoch 64/100\n",
            "29/29 [==============================] - 4s 128ms/step - loss: 0.0941 - accuracy: 0.9839 - val_loss: 17.2104 - val_accuracy: 0.4000\n",
            "Epoch 65/100\n",
            "29/29 [==============================] - 4s 129ms/step - loss: 1.2112e-04 - accuracy: 1.0000 - val_loss: 17.2286 - val_accuracy: 0.4000\n",
            "Epoch 66/100\n",
            "29/29 [==============================] - 4s 129ms/step - loss: 2.8945e-05 - accuracy: 1.0000 - val_loss: 17.3552 - val_accuracy: 0.4000\n",
            "Epoch 67/100\n",
            "29/29 [==============================] - 4s 130ms/step - loss: 8.5884e-06 - accuracy: 1.0000 - val_loss: 17.7169 - val_accuracy: 0.4000\n",
            "Epoch 68/100\n",
            "29/29 [==============================] - 4s 129ms/step - loss: 3.0515e-06 - accuracy: 1.0000 - val_loss: 18.3319 - val_accuracy: 0.4000\n",
            "Epoch 69/100\n",
            "29/29 [==============================] - 4s 129ms/step - loss: 8.4007e-07 - accuracy: 1.0000 - val_loss: 19.1100 - val_accuracy: 0.4000\n",
            "Epoch 70/100\n",
            "29/29 [==============================] - 4s 128ms/step - loss: 1.4497e-07 - accuracy: 1.0000 - val_loss: 19.7502 - val_accuracy: 0.4000\n",
            "Epoch 71/100\n",
            "29/29 [==============================] - 4s 129ms/step - loss: 4.1655e-08 - accuracy: 1.0000 - val_loss: 20.7083 - val_accuracy: 0.4000\n",
            "Epoch 72/100\n",
            "29/29 [==============================] - 4s 129ms/step - loss: 1.0414e-08 - accuracy: 1.0000 - val_loss: 21.1963 - val_accuracy: 0.4000\n",
            "Epoch 73/100\n",
            "29/29 [==============================] - 4s 129ms/step - loss: 3.4256e-09 - accuracy: 1.0000 - val_loss: 21.6868 - val_accuracy: 0.4000\n",
            "Epoch 74/100\n",
            "29/29 [==============================] - 4s 129ms/step - loss: 1.5072e-09 - accuracy: 1.0000 - val_loss: 21.6040 - val_accuracy: 0.4000\n",
            "Epoch 75/100\n",
            "29/29 [==============================] - 4s 129ms/step - loss: 1.0962e-09 - accuracy: 1.0000 - val_loss: 21.2066 - val_accuracy: 0.4000\n",
            "Epoch 76/100\n",
            "29/29 [==============================] - 4s 128ms/step - loss: 8.2213e-10 - accuracy: 1.0000 - val_loss: 20.9855 - val_accuracy: 0.4000\n",
            "Epoch 77/100\n",
            "29/29 [==============================] - 4s 130ms/step - loss: 1.3702e-09 - accuracy: 1.0000 - val_loss: 21.0749 - val_accuracy: 0.4000\n",
            "Epoch 78/100\n",
            "29/29 [==============================] - 4s 130ms/step - loss: 5.4809e-10 - accuracy: 1.0000 - val_loss: 21.3296 - val_accuracy: 0.4000\n",
            "Epoch 79/100\n",
            "29/29 [==============================] - 4s 129ms/step - loss: 4.1107e-10 - accuracy: 1.0000 - val_loss: 20.6400 - val_accuracy: 0.4000\n",
            "Epoch 80/100\n",
            "29/29 [==============================] - 4s 128ms/step - loss: 8.2213e-10 - accuracy: 1.0000 - val_loss: 20.4847 - val_accuracy: 0.4000\n",
            "Epoch 81/100\n",
            "29/29 [==============================] - 4s 130ms/step - loss: 6.8511e-10 - accuracy: 1.0000 - val_loss: 20.2773 - val_accuracy: 0.4000\n",
            "Epoch 82/100\n",
            "29/29 [==============================] - 4s 129ms/step - loss: 8.2213e-10 - accuracy: 1.0000 - val_loss: 20.1694 - val_accuracy: 0.4000\n",
            "Epoch 83/100\n",
            "29/29 [==============================] - 4s 130ms/step - loss: 4.1107e-10 - accuracy: 1.0000 - val_loss: 20.2768 - val_accuracy: 0.4000\n",
            "Epoch 84/100\n",
            "29/29 [==============================] - 4s 127ms/step - loss: 8.2213e-10 - accuracy: 1.0000 - val_loss: 20.2677 - val_accuracy: 0.4000\n",
            "Epoch 85/100\n",
            "29/29 [==============================] - 4s 131ms/step - loss: 0.0000e+00 - accuracy: 1.0000 - val_loss: 19.7542 - val_accuracy: 0.4000\n",
            "Epoch 86/100\n",
            "29/29 [==============================] - 4s 128ms/step - loss: 4.1107e-10 - accuracy: 1.0000 - val_loss: 20.1006 - val_accuracy: 0.4000\n",
            "Epoch 87/100\n",
            "29/29 [==============================] - 4s 130ms/step - loss: 1.3702e-10 - accuracy: 1.0000 - val_loss: 19.7454 - val_accuracy: 0.4000\n",
            "Epoch 88/100\n",
            "29/29 [==============================] - 4s 129ms/step - loss: 2.7404e-10 - accuracy: 1.0000 - val_loss: 19.6755 - val_accuracy: 0.4000\n",
            "Epoch 89/100\n",
            "29/29 [==============================] - 4s 129ms/step - loss: 2.7404e-10 - accuracy: 1.0000 - val_loss: 19.7508 - val_accuracy: 0.4000\n",
            "Epoch 90/100\n",
            "29/29 [==============================] - 4s 129ms/step - loss: 2.7404e-10 - accuracy: 1.0000 - val_loss: 19.9889 - val_accuracy: 0.4000\n",
            "Epoch 91/100\n",
            "29/29 [==============================] - 4s 130ms/step - loss: 0.0000e+00 - accuracy: 1.0000 - val_loss: 19.7532 - val_accuracy: 0.4000\n",
            "Epoch 92/100\n",
            "29/29 [==============================] - 4s 129ms/step - loss: 1.3702e-10 - accuracy: 1.0000 - val_loss: 19.8436 - val_accuracy: 0.4000\n",
            "Epoch 93/100\n",
            "29/29 [==============================] - 4s 131ms/step - loss: 1.3702e-10 - accuracy: 1.0000 - val_loss: 19.7515 - val_accuracy: 0.4000\n",
            "Epoch 94/100\n",
            "29/29 [==============================] - 4s 130ms/step - loss: 1.3702e-10 - accuracy: 1.0000 - val_loss: 19.6031 - val_accuracy: 0.4000\n",
            "Epoch 95/100\n",
            "29/29 [==============================] - 4s 129ms/step - loss: 1.3702e-10 - accuracy: 1.0000 - val_loss: 19.9274 - val_accuracy: 0.4000\n",
            "Epoch 96/100\n",
            "29/29 [==============================] - 4s 129ms/step - loss: 0.0000e+00 - accuracy: 1.0000 - val_loss: 20.1003 - val_accuracy: 0.4000\n",
            "Epoch 97/100\n",
            "29/29 [==============================] - 4s 130ms/step - loss: 0.0000e+00 - accuracy: 1.0000 - val_loss: 20.2002 - val_accuracy: 0.4000\n",
            "Epoch 98/100\n",
            "29/29 [==============================] - 4s 129ms/step - loss: 1.3702e-10 - accuracy: 1.0000 - val_loss: 20.4139 - val_accuracy: 0.4000\n",
            "Epoch 99/100\n",
            "29/29 [==============================] - 4s 130ms/step - loss: 0.0000e+00 - accuracy: 1.0000 - val_loss: 20.6281 - val_accuracy: 0.4000\n",
            "Epoch 100/100\n",
            "29/29 [==============================] - 4s 128ms/step - loss: 1.3702e-10 - accuracy: 1.0000 - val_loss: 20.6296 - val_accuracy: 0.4000\n"
          ]
        }
      ],
      "source": [
        "model = keras.models.Sequential([\n",
        "    tf.keras.layers.Conv2D(32, (5,5), activation=keras.layers.LeakyReLU(alpha=0.01)),\n",
        "    tf.keras.layers.MaxPooling2D(2, 2),\n",
        "    tf.keras.layers.Conv2D(32, (5,5), activation=keras.layers.LeakyReLU(alpha=0.01)),\n",
        "    tf.keras.layers.MaxPooling2D(2, 2),\n",
        "    tf.keras.layers.Conv2D(32, (5,5), activation=keras.layers.LeakyReLU(alpha=0.01)),\n",
        "    tf.keras.layers.MaxPooling2D(2, 2),                                       \n",
        "    \n",
        "    tf.keras.layers.AveragePooling2D(pool_size=(2, 2)),\n",
        "\n",
        "    tf.keras.layers.Flatten(),\n",
        "    \n",
        "    tf.keras.layers.Dense(256, activation=keras.layers.LeakyReLU(alpha=0.01)),\n",
        "    tf.keras.layers.Dense(128, activation=keras.layers.LeakyReLU(alpha=0.01)),\n",
        "    tf.keras.layers.Dense(64, activation=keras.layers.LeakyReLU(alpha=0.01)),\n",
        "    tf.keras.layers.Dense(10, activation='softmax'),  \n",
        "])\n",
        "\n",
        "model.compile(loss = 'sparse_categorical_crossentropy', optimizer='rmsprop', metrics=['accuracy'])\n",
        "\n",
        "history = model.fit(train_generator,\n",
        "                     validation_data = validation_generator, \n",
        "                     #validation_steps = len(tracks) // BATCH_SIZE,\n",
        "                     epochs=100 \n",
        "                     )"
      ]
    },
    {
      "cell_type": "code",
      "source": [
        "\n",
        "x_test, y_test= list(zip(*test))\n",
        "x_test = [x[0] for x in x_test]\n",
        "results = model.evaluate(list(x_test), list(y_test), batch_size=128)\n",
        "print(\"test loss, test acc:\", results)"
      ],
      "metadata": {
        "colab": {
          "base_uri": "https://localhost:8080/",
          "height": 380
        },
        "id": "h1OypVX_J4hd",
        "outputId": "fa9530bf-7c3d-4025-a740-2bc1f4971944"
      },
      "execution_count": 144,
      "outputs": [
        {
          "output_type": "error",
          "ename": "ValueError",
          "evalue": "ignored",
          "traceback": [
            "\u001b[0;31m---------------------------------------------------------------------------\u001b[0m",
            "\u001b[0;31mValueError\u001b[0m                                Traceback (most recent call last)",
            "\u001b[0;32m<ipython-input-144-579fb756dbaf>\u001b[0m in \u001b[0;36m<module>\u001b[0;34m()\u001b[0m\n\u001b[1;32m      2\u001b[0m \u001b[0mx_test\u001b[0m\u001b[0;34m,\u001b[0m \u001b[0my_test\u001b[0m\u001b[0;34m=\u001b[0m \u001b[0mlist\u001b[0m\u001b[0;34m(\u001b[0m\u001b[0mzip\u001b[0m\u001b[0;34m(\u001b[0m\u001b[0;34m*\u001b[0m\u001b[0mtest\u001b[0m\u001b[0;34m)\u001b[0m\u001b[0;34m)\u001b[0m\u001b[0;34m\u001b[0m\u001b[0;34m\u001b[0m\u001b[0m\n\u001b[1;32m      3\u001b[0m \u001b[0mx_test\u001b[0m \u001b[0;34m=\u001b[0m \u001b[0;34m[\u001b[0m\u001b[0mx\u001b[0m\u001b[0;34m[\u001b[0m\u001b[0;36m0\u001b[0m\u001b[0;34m]\u001b[0m \u001b[0;32mfor\u001b[0m \u001b[0mx\u001b[0m \u001b[0;32min\u001b[0m \u001b[0mx_test\u001b[0m\u001b[0;34m]\u001b[0m\u001b[0;34m\u001b[0m\u001b[0;34m\u001b[0m\u001b[0m\n\u001b[0;32m----> 4\u001b[0;31m \u001b[0mresults\u001b[0m \u001b[0;34m=\u001b[0m \u001b[0mmodel\u001b[0m\u001b[0;34m.\u001b[0m\u001b[0mevaluate\u001b[0m\u001b[0;34m(\u001b[0m\u001b[0mlist\u001b[0m\u001b[0;34m(\u001b[0m\u001b[0mx_test\u001b[0m\u001b[0;34m)\u001b[0m\u001b[0;34m,\u001b[0m \u001b[0mlist\u001b[0m\u001b[0;34m(\u001b[0m\u001b[0my_test\u001b[0m\u001b[0;34m)\u001b[0m\u001b[0;34m,\u001b[0m \u001b[0mbatch_size\u001b[0m\u001b[0;34m=\u001b[0m\u001b[0;36m128\u001b[0m\u001b[0;34m)\u001b[0m\u001b[0;34m\u001b[0m\u001b[0;34m\u001b[0m\u001b[0m\n\u001b[0m\u001b[1;32m      5\u001b[0m \u001b[0mprint\u001b[0m\u001b[0;34m(\u001b[0m\u001b[0;34m\"test loss, test acc:\"\u001b[0m\u001b[0;34m,\u001b[0m \u001b[0mresults\u001b[0m\u001b[0;34m)\u001b[0m\u001b[0;34m\u001b[0m\u001b[0;34m\u001b[0m\u001b[0m\n",
            "\u001b[0;32m/usr/local/lib/python3.7/dist-packages/tensorflow/python/keras/engine/training.py\u001b[0m in \u001b[0;36mevaluate\u001b[0;34m(self, x, y, batch_size, verbose, sample_weight, steps, callbacks, max_queue_size, workers, use_multiprocessing, return_dict, **kwargs)\u001b[0m\n\u001b[1;32m   1474\u001b[0m             \u001b[0muse_multiprocessing\u001b[0m\u001b[0;34m=\u001b[0m\u001b[0muse_multiprocessing\u001b[0m\u001b[0;34m,\u001b[0m\u001b[0;34m\u001b[0m\u001b[0;34m\u001b[0m\u001b[0m\n\u001b[1;32m   1475\u001b[0m             \u001b[0mmodel\u001b[0m\u001b[0;34m=\u001b[0m\u001b[0mself\u001b[0m\u001b[0;34m,\u001b[0m\u001b[0;34m\u001b[0m\u001b[0;34m\u001b[0m\u001b[0m\n\u001b[0;32m-> 1476\u001b[0;31m             steps_per_execution=self._steps_per_execution)\n\u001b[0m\u001b[1;32m   1477\u001b[0m \u001b[0;34m\u001b[0m\u001b[0m\n\u001b[1;32m   1478\u001b[0m       \u001b[0;31m# Container that configures and calls `tf.keras.Callback`s.\u001b[0m\u001b[0;34m\u001b[0m\u001b[0;34m\u001b[0m\u001b[0;34m\u001b[0m\u001b[0m\n",
            "\u001b[0;32m/usr/local/lib/python3.7/dist-packages/tensorflow/python/keras/engine/data_adapter.py\u001b[0m in \u001b[0;36mget_data_handler\u001b[0;34m(*args, **kwargs)\u001b[0m\n\u001b[1;32m   1392\u001b[0m   \u001b[0;32mif\u001b[0m \u001b[0mgetattr\u001b[0m\u001b[0;34m(\u001b[0m\u001b[0mkwargs\u001b[0m\u001b[0;34m[\u001b[0m\u001b[0;34m\"model\"\u001b[0m\u001b[0;34m]\u001b[0m\u001b[0;34m,\u001b[0m \u001b[0;34m\"_cluster_coordinator\"\u001b[0m\u001b[0;34m,\u001b[0m \u001b[0;32mNone\u001b[0m\u001b[0;34m)\u001b[0m\u001b[0;34m:\u001b[0m\u001b[0;34m\u001b[0m\u001b[0;34m\u001b[0m\u001b[0m\n\u001b[1;32m   1393\u001b[0m     \u001b[0;32mreturn\u001b[0m \u001b[0m_ClusterCoordinatorDataHandler\u001b[0m\u001b[0;34m(\u001b[0m\u001b[0;34m*\u001b[0m\u001b[0margs\u001b[0m\u001b[0;34m,\u001b[0m \u001b[0;34m**\u001b[0m\u001b[0mkwargs\u001b[0m\u001b[0;34m)\u001b[0m\u001b[0;34m\u001b[0m\u001b[0;34m\u001b[0m\u001b[0m\n\u001b[0;32m-> 1394\u001b[0;31m   \u001b[0;32mreturn\u001b[0m \u001b[0mDataHandler\u001b[0m\u001b[0;34m(\u001b[0m\u001b[0;34m*\u001b[0m\u001b[0margs\u001b[0m\u001b[0;34m,\u001b[0m \u001b[0;34m**\u001b[0m\u001b[0mkwargs\u001b[0m\u001b[0;34m)\u001b[0m\u001b[0;34m\u001b[0m\u001b[0;34m\u001b[0m\u001b[0m\n\u001b[0m\u001b[1;32m   1395\u001b[0m \u001b[0;34m\u001b[0m\u001b[0m\n\u001b[1;32m   1396\u001b[0m \u001b[0;34m\u001b[0m\u001b[0m\n",
            "\u001b[0;32m/usr/local/lib/python3.7/dist-packages/tensorflow/python/keras/engine/data_adapter.py\u001b[0m in \u001b[0;36m__init__\u001b[0;34m(self, x, y, sample_weight, batch_size, steps_per_epoch, initial_epoch, epochs, shuffle, class_weight, max_queue_size, workers, use_multiprocessing, model, steps_per_execution, distribute)\u001b[0m\n\u001b[1;32m   1146\u001b[0m       \u001b[0mself\u001b[0m\u001b[0;34m.\u001b[0m\u001b[0m_steps_per_execution_value\u001b[0m \u001b[0;34m=\u001b[0m \u001b[0msteps_per_execution\u001b[0m\u001b[0;34m.\u001b[0m\u001b[0mnumpy\u001b[0m\u001b[0;34m(\u001b[0m\u001b[0;34m)\u001b[0m\u001b[0;34m.\u001b[0m\u001b[0mitem\u001b[0m\u001b[0;34m(\u001b[0m\u001b[0;34m)\u001b[0m\u001b[0;34m\u001b[0m\u001b[0;34m\u001b[0m\u001b[0m\n\u001b[1;32m   1147\u001b[0m \u001b[0;34m\u001b[0m\u001b[0m\n\u001b[0;32m-> 1148\u001b[0;31m     \u001b[0madapter_cls\u001b[0m \u001b[0;34m=\u001b[0m \u001b[0mselect_data_adapter\u001b[0m\u001b[0;34m(\u001b[0m\u001b[0mx\u001b[0m\u001b[0;34m,\u001b[0m \u001b[0my\u001b[0m\u001b[0;34m)\u001b[0m\u001b[0;34m\u001b[0m\u001b[0;34m\u001b[0m\u001b[0m\n\u001b[0m\u001b[1;32m   1149\u001b[0m     self._adapter = adapter_cls(\n\u001b[1;32m   1150\u001b[0m         \u001b[0mx\u001b[0m\u001b[0;34m,\u001b[0m\u001b[0;34m\u001b[0m\u001b[0;34m\u001b[0m\u001b[0m\n",
            "\u001b[0;32m/usr/local/lib/python3.7/dist-packages/tensorflow/python/keras/engine/data_adapter.py\u001b[0m in \u001b[0;36mselect_data_adapter\u001b[0;34m(x, y)\u001b[0m\n\u001b[1;32m    990\u001b[0m         \u001b[0;34m\"Failed to find data adapter that can handle \"\u001b[0m\u001b[0;34m\u001b[0m\u001b[0;34m\u001b[0m\u001b[0m\n\u001b[1;32m    991\u001b[0m         \"input: {}, {}\".format(\n\u001b[0;32m--> 992\u001b[0;31m             _type_name(x), _type_name(y)))\n\u001b[0m\u001b[1;32m    993\u001b[0m   \u001b[0;32melif\u001b[0m \u001b[0mlen\u001b[0m\u001b[0;34m(\u001b[0m\u001b[0madapter_cls\u001b[0m\u001b[0;34m)\u001b[0m \u001b[0;34m>\u001b[0m \u001b[0;36m1\u001b[0m\u001b[0;34m:\u001b[0m\u001b[0;34m\u001b[0m\u001b[0;34m\u001b[0m\u001b[0m\n\u001b[1;32m    994\u001b[0m     raise RuntimeError(\n",
            "\u001b[0;31mValueError\u001b[0m: Failed to find data adapter that can handle input: (<class 'list'> containing values of types {\"<class 'numpy.ndarray'>\"}), (<class 'list'> containing values of types {\"<class 'int'>\"})"
          ]
        }
      ]
    },
    {
      "cell_type": "code",
      "source": [
        ""
      ],
      "metadata": {
        "id": "gAymI9MpKojF"
      },
      "execution_count": null,
      "outputs": []
    },
    {
      "cell_type": "code",
      "execution_count": null,
      "metadata": {
        "execution": {
          "iopub.execute_input": "2022-01-29T20:46:31.143603Z",
          "iopub.status.busy": "2022-01-29T20:46:31.143286Z",
          "iopub.status.idle": "2022-01-29T20:46:31.557126Z",
          "shell.execute_reply": "2022-01-29T20:46:31.554094Z",
          "shell.execute_reply.started": "2022-01-29T20:46:31.143568Z"
        },
        "trusted": true,
        "id": "cAQttoN-P-Fk"
      },
      "outputs": [],
      "source": [
        "import matplotlib.pyplot as plt\n",
        "acc = history.history['accuracy']\n",
        "val_acc = history.history['val_accuracy']\n",
        "loss = history.history['loss']\n",
        "val_loss = history.history['val_loss']\n",
        "\n",
        "epochs = range(len(acc))\n",
        "\n",
        "plt.plot(epochs, acc, 'r', label='Training accuracy')\n",
        "plt.plot(epochs, val_acc, 'b', label='Validation accuracy')\n",
        "plt.title('Training and validation accuracy')\n",
        "plt.legend(loc=0)\n",
        "plt.figure()\n",
        "\n",
        "\n",
        "plt.show()"
      ]
    },
    {
      "cell_type": "code",
      "execution_count": null,
      "metadata": {
        "execution": {
          "iopub.execute_input": "2022-01-29T20:45:37.786868Z",
          "iopub.status.busy": "2022-01-29T20:45:37.786536Z",
          "iopub.status.idle": "2022-01-29T20:45:43.449248Z",
          "shell.execute_reply": "2022-01-29T20:45:43.447971Z",
          "shell.execute_reply.started": "2022-01-29T20:45:37.786833Z"
        },
        "trusted": true,
        "id": "vhgX3FR5P-Fk"
      },
      "outputs": [],
      "source": [
        "import requests\n",
        "from IPython import display\n",
        "url = input()\n",
        "r = requests.get(url, allow_redirects=True)\n",
        "open('test.mp3', 'wb').write(r.content)\n",
        "\n",
        "Y, sr = librosa.load('test.mp3')\n",
        "\n",
        "track = preprocess_track(Y, sr)\n",
        "\n",
        "pred = model.predict(np.expand_dims([track], axis=3))\n",
        "print(pred)\n",
        "print(LABEL_2_GENRE.get(np.argmax(pred)))\n",
        "\n",
        "display.Audio(\"test.mp3\")"
      ]
    }
  ],
  "metadata": {
    "kernelspec": {
      "display_name": "Python 3",
      "language": "python",
      "name": "python3"
    },
    "language_info": {
      "codemirror_mode": {
        "name": "ipython",
        "version": 3
      },
      "file_extension": ".py",
      "mimetype": "text/x-python",
      "name": "python",
      "nbconvert_exporter": "python",
      "pygments_lexer": "ipython3",
      "version": "3.8.12"
    },
    "colab": {
      "name": "gtzan_demo_train.ipynb",
      "provenance": []
    },
    "accelerator": "GPU"
  },
  "nbformat": 4,
  "nbformat_minor": 0
}