{
  "cells": [
    {
      "cell_type": "code",
      "execution_count": null,
      "metadata": {
        "execution": {
          "iopub.execute_input": "2022-01-29T20:23:53.858155Z",
          "iopub.status.busy": "2022-01-29T20:23:53.856814Z",
          "iopub.status.idle": "2022-01-29T20:23:53.864056Z",
          "shell.execute_reply": "2022-01-29T20:23:53.862669Z",
          "shell.execute_reply.started": "2022-01-29T20:23:53.858104Z"
        },
        "trusted": true,
        "id": "Qv0vR00IP-FZ"
      },
      "outputs": [],
      "source": [
        "#!pip install tensorflow librosa"
      ]
    },
    {
      "cell_type": "markdown",
      "metadata": {
        "id": "iJQ9_KkJP-Fc"
      },
      "source": [
        "[![Open In Colab](https://colab.research.google.com/assets/colab-badge.svg)](https://colab.research.google.com/github/JorgeRuizDev/SpotMyFM/blob/main/Ludwig/notebooks/gtzan/gtzan_demo_train.ipynb)\n",
        "[![Kaggle](https://kaggle.com/static/images/open-in-kaggle.svg)](https://kaggle.com/kernels/welcome?src=https://github.com/JorgeRuizDev/SpotMyFM/blob/main/Ludwig/notebooks/gtzan/gtzan_demo_train.ipynb)"
      ]
    },
    {
      "cell_type": "code",
      "execution_count": null,
      "metadata": {
        "execution": {
          "iopub.execute_input": "2022-01-29T20:23:53.867589Z",
          "iopub.status.busy": "2022-01-29T20:23:53.866881Z",
          "iopub.status.idle": "2022-01-29T20:24:00.703827Z",
          "shell.execute_reply": "2022-01-29T20:24:00.702643Z",
          "shell.execute_reply.started": "2022-01-29T20:23:53.867543Z"
        },
        "trusted": true,
        "id": "ONEDfB7KP-Fd"
      },
      "outputs": [],
      "source": [
        "# Imports\n",
        "import tensorflow as tf\n",
        "from tensorflow.python.keras.api import keras\n",
        "from tensorflow.python.keras.api.keras.preprocessing.image import ImageDataGenerator\n",
        "\n",
        "import os\n",
        "from pathlib import Path\n",
        "from IPython.core.display import HTML, display\n",
        "\n",
        "import librosa\n",
        "import random\n",
        "import numpy as np\n",
        "from math import floor\n",
        "from typing import Union, Any"
      ]
    },
    {
      "cell_type": "code",
      "execution_count": null,
      "metadata": {
        "execution": {
          "iopub.execute_input": "2022-01-29T20:24:00.706585Z",
          "iopub.status.busy": "2022-01-29T20:24:00.706230Z",
          "iopub.status.idle": "2022-01-29T20:24:00.720547Z",
          "shell.execute_reply": "2022-01-29T20:24:00.719450Z",
          "shell.execute_reply.started": "2022-01-29T20:24:00.706526Z"
        },
        "trusted": true,
        "id": "U5pkmgXaP-Fe"
      },
      "outputs": [],
      "source": [
        "def download():\n",
        "  #!pip install kaggle\n",
        "  import os\n",
        "  os.environ['KAGGLE_USERNAME'] = \"jorgeruizdev\"\n",
        "  os.environ['KAGGLE_KEY'] = \"5f3badd86b1d1035e2723792a67a2879\"\n",
        "  !kaggle datasets download -d andradaolteanu/gtzan-dataset-music-genre-classification\n",
        "  !unzip -qq /content/gtzan-dataset-music-genre-classification.zip\n",
        "#download()"
      ]
    },
    {
      "cell_type": "code",
      "execution_count": null,
      "metadata": {
        "execution": {
          "iopub.execute_input": "2022-01-29T20:24:00.725149Z",
          "iopub.status.busy": "2022-01-29T20:24:00.724859Z",
          "iopub.status.idle": "2022-01-29T20:24:00.904893Z",
          "shell.execute_reply": "2022-01-29T20:24:00.903566Z",
          "shell.execute_reply.started": "2022-01-29T20:24:00.725113Z"
        },
        "trusted": true,
        "id": "n7c7ZS8pP-Ff"
      },
      "outputs": [],
      "source": [
        "print(tf. __version__)\n",
        "print(tf.config.list_physical_devices('GPU'))\n"
      ]
    },
    {
      "cell_type": "code",
      "execution_count": null,
      "metadata": {
        "execution": {
          "iopub.execute_input": "2022-01-29T20:24:00.908090Z",
          "iopub.status.busy": "2022-01-29T20:24:00.907269Z",
          "iopub.status.idle": "2022-01-29T20:24:00.921762Z",
          "shell.execute_reply": "2022-01-29T20:24:00.920621Z",
          "shell.execute_reply.started": "2022-01-29T20:24:00.908035Z"
        },
        "trusted": true,
        "id": "r9yEssxXP-Ff"
      },
      "outputs": [],
      "source": [
        "# CONFIG\n",
        "\n",
        "SAMPLE_RATE = 22050\n",
        "\n",
        "TRACK_LENGTH = 30\n",
        "\n",
        "TRACK_SAMPLES = 22050 * TRACK_LENGTH\n",
        "\n",
        "SPLITS = 4\n",
        "\n",
        "SAMPLES_PER_SPLIT = TRACK_SAMPLES // SPLITS\n",
        "\n",
        "N_MELS = 64\n",
        "\n",
        "print(f\"Samples Per Split {SAMPLES_PER_SPLIT}\")\n",
        "\n",
        "# Dataset:\n",
        "DATASET_PATH = \"/content/Data\"\n",
        "\n",
        "GENRES_PATH = f\"{DATASET_PATH}/genres_original\"\n",
        "\n",
        "GENRES = os.listdir(GENRES_PATH)\n",
        "\n",
        "\n",
        "\n",
        "# Training\n",
        "BATCH_SIZE = 20\n"
      ]
    },
    {
      "cell_type": "code",
      "execution_count": null,
      "metadata": {
        "execution": {
          "iopub.execute_input": "2022-01-29T20:24:00.925444Z",
          "iopub.status.busy": "2022-01-29T20:24:00.925202Z",
          "iopub.status.idle": "2022-01-29T20:24:00.933974Z",
          "shell.execute_reply": "2022-01-29T20:24:00.932667Z",
          "shell.execute_reply.started": "2022-01-29T20:24:00.925413Z"
        },
        "trusted": true,
        "id": "7dyK7CF4P-Fg"
      },
      "outputs": [],
      "source": [
        "GENRE_2_LABEL = {k: v for v, k in enumerate(GENRES)}\n",
        "LABEL_2_GENRE = {v: k for k,v in GENRE_2_LABEL.items()}\n",
        "print(f\"Genre to Label Dict: {GENRE_2_LABEL}\")\n",
        "print(f\"Label to Genre Dict: {LABEL_2_GENRE}\")"
      ]
    },
    {
      "cell_type": "code",
      "execution_count": null,
      "metadata": {
        "execution": {
          "iopub.execute_input": "2022-01-29T20:24:00.937080Z",
          "iopub.status.busy": "2022-01-29T20:24:00.936155Z",
          "iopub.status.idle": "2022-01-29T20:24:00.983849Z",
          "shell.execute_reply": "2022-01-29T20:24:00.982812Z",
          "shell.execute_reply.started": "2022-01-29T20:24:00.937028Z"
        },
        "trusted": true,
        "id": "gpqbcNjFP-Fh"
      },
      "outputs": [],
      "source": [
        "if not len(list(Path(f\"{DATASET_PATH}/genres_original/disco\").glob(\"*.wav\"))) >= 100:\n",
        "  print(f\"\"\"\n",
        "    No subfolder 'genres_original/disco' found under {DATASET_PATH}.\n",
        "    Please download the datasate from https://www.kaggle.com/andradaolteanu/gtzan-dataset-music-genre-classification and\n",
        "    unzip it under {DATASET_PATH}.\n",
        "  \"\"\")\n",
        "  raise IOError\n"
      ]
    },
    {
      "cell_type": "code",
      "source": [
        "def split_track(signal, splits = 5):\n",
        "    samples_per_split = len(signal) // splits\n",
        "    max_split = samples_per_split * splits\n",
        "\n",
        "    return np.array_split(signal[:max_split], splits)\n",
        "\n"
      ],
      "metadata": {
        "id": "1Odq9ar66Tby"
      },
      "execution_count": null,
      "outputs": []
    },
    {
      "cell_type": "code",
      "source": [
        "def normalize_mfccs(mfcc_feat: np.ndarray):\n",
        "    return np.subtract(mfcc_feat,np.mean(mfcc_feat))\n"
      ],
      "metadata": {
        "id": "sk1bO3UR4sWP"
      },
      "execution_count": null,
      "outputs": []
    },
    {
      "cell_type": "code",
      "execution_count": null,
      "metadata": {
        "execution": {
          "iopub.execute_input": "2022-01-29T20:35:49.453253Z",
          "iopub.status.busy": "2022-01-29T20:35:49.452881Z",
          "iopub.status.idle": "2022-01-29T20:35:49.461358Z",
          "shell.execute_reply": "2022-01-29T20:35:49.458903Z",
          "shell.execute_reply.started": "2022-01-29T20:35:49.453218Z"
        },
        "trusted": true,
        "id": "zbCPHEpEP-Fh"
      },
      "outputs": [],
      "source": [
        "def preprocess_track(signal: Union[np.ndarray, Any], sr=SAMPLE_RATE):\n",
        "    mfccs = librosa.feature.mfcc(y=signal, n_mfcc=N_MELS, sr=sr)\n",
        "\n",
        "    #log_S = librosa.amplitude_to_db(mfccs)\n",
        "    #delta = librosa.feature.delta(mfccs, order=1)\n",
        "\n",
        "    return normalize_mfccs(mfccs)"
      ]
    },
    {
      "cell_type": "code",
      "execution_count": null,
      "metadata": {
        "execution": {
          "iopub.execute_input": "2022-01-29T20:24:00.996021Z",
          "iopub.status.busy": "2022-01-29T20:24:00.995367Z",
          "iopub.status.idle": "2022-01-29T20:24:01.006806Z",
          "shell.execute_reply": "2022-01-29T20:24:01.005617Z",
          "shell.execute_reply.started": "2022-01-29T20:24:00.995974Z"
        },
        "trusted": true,
        "id": "IYKppEdaP-Fi"
      },
      "outputs": [],
      "source": [
        "def load_data(genre_path=GENRES_PATH):\n",
        "    track_input = []\n",
        "    labels = []\n",
        "    for genre in GENRES:\n",
        "        genre_folder = f\"{genre_path}/{genre}\"\n",
        "        label = GENRE_2_LABEL[genre]\n",
        "        for track in os.listdir(genre_folder):\n",
        "\n",
        "            if (track == \"jazz.00054.wav\"):\n",
        "                # This track is broken \n",
        "                continue\n",
        "\n",
        "            y, sr = librosa.load(f\"{genre_folder}/{track}\", sr=SAMPLE_RATE)\n",
        "            \n",
        "            # Split into chunkso f SAMPLES_PER_SPLIT length \n",
        "            splits = [y[slice_samp:slice_samp + SAMPLES_PER_SPLIT] for slice_samp in range(0, len(y), SAMPLES_PER_SPLIT) ]\n",
        "\n",
        "            track = []\n",
        "\n",
        "            for split in splits:\n",
        "                \n",
        "                if (len(split) == SAMPLES_PER_SPLIT):\n",
        "                    track.append(preprocess_track(split, sr))\n",
        "            \n",
        "            if len(track):  \n",
        "                track_input.append(track)\n",
        "                labels.append(label)\n",
        "\n",
        "    \n",
        "\n",
        "    return track_input, labels"
      ]
    },
    {
      "cell_type": "code",
      "execution_count": null,
      "metadata": {
        "execution": {
          "iopub.execute_input": "2022-01-29T20:24:01.011084Z",
          "iopub.status.busy": "2022-01-29T20:24:01.010727Z",
          "iopub.status.idle": "2022-01-29T20:24:01.023427Z",
          "shell.execute_reply": "2022-01-29T20:24:01.022137Z",
          "shell.execute_reply.started": "2022-01-29T20:24:01.011037Z"
        },
        "trusted": true,
        "id": "lNLPNzGnP-Fj"
      },
      "outputs": [],
      "source": [
        "def unison_shuffled_copies(a, b):\n",
        "    assert len(a) == len(b), f\"len(a) = {len(a)} != len(b) = {len(b)}\"\n",
        "    p = np.random.permutation(len(a))\n",
        "    return a[p], b[p]"
      ]
    },
    {
      "cell_type": "code",
      "execution_count": 157,
      "metadata": {
        "execution": {
          "iopub.execute_input": "2022-01-29T20:24:01.025813Z",
          "iopub.status.busy": "2022-01-29T20:24:01.025322Z",
          "iopub.status.idle": "2022-01-29T20:26:01.356746Z",
          "shell.execute_reply": "2022-01-29T20:26:01.355812Z",
          "shell.execute_reply.started": "2022-01-29T20:24:01.025768Z"
        },
        "trusted": true,
        "id": "7OPK7TR3P-Fj"
      },
      "outputs": [],
      "source": [
        "tracks_, labels_ = load_data()"
      ]
    },
    {
      "cell_type": "code",
      "source": [
        ""
      ],
      "metadata": {
        "id": "Ov0lISETVGIe"
      },
      "execution_count": 157,
      "outputs": []
    },
    {
      "cell_type": "code",
      "source": [
        "def train_test_val(ds, test=0.1, val=0.2):\n",
        "\n",
        "\n",
        "    train_slice = floor(len(ds) * (1 - val + test))\n",
        "\n",
        "\n",
        "    train = ds[:train_slice]\n",
        "    rest = ds[train_slice:]\n",
        "\n",
        "    rest_slice =  floor(len(rest) * (1 - (test / ( test + val))))\n",
        "\n",
        "    test = rest[:rest_slice]\n",
        "    val = rest[rest_slice:]\n",
        "\n",
        "    return train, test, val\n"
      ],
      "metadata": {
        "id": "F7ZTFxlj5lAX"
      },
      "execution_count": 158,
      "outputs": []
    },
    {
      "cell_type": "code",
      "source": [
        "\n",
        "class TrackDataGen(keras.utils.Sequence):\n",
        "    \n",
        "    def __init__(self, data,\n",
        "                 input_shape = (13, 259),\n",
        "                 batch_size = 30):\n",
        "        \n",
        "        self.batch_size = batch_size\n",
        "        self.shape = input_shape\n",
        "        X = []\n",
        "        Y = []\n",
        "\n",
        "        for track_splits, labels in data:\n",
        "            X.extend(track_splits)\n",
        "            Y.extend(([labels]* len(track_splits)))\n",
        "\n",
        "        X_np = np.array(X)\n",
        "        X_np = np.expand_dims(X_np, axis=3)\n",
        "        Y_np = np.array(Y)\n",
        "\n",
        "        self.X, self.Y = unison_shuffled_copies(X_np, Y_np)\n",
        "        \n",
        "    \n",
        "    \n",
        "    def on_epoch_end(self):\n",
        "        pass\n",
        "    \n",
        "    def __getitem__(self, idx):\n",
        "        batch_x = self.X[idx * self.batch_size:(idx + 1) * self.batch_size]\n",
        "        batch_y = self.Y[idx * self.batch_size:(idx + 1) * self.batch_size] \n",
        "        \n",
        "        return batch_x, np.array(batch_y)\n",
        "    \n",
        "    def __len__(self):\n",
        "        return len(self.X) // self.batch_size"
      ],
      "metadata": {
        "id": "I36oh6U--LRA"
      },
      "execution_count": 159,
      "outputs": []
    },
    {
      "cell_type": "code",
      "execution_count": 160,
      "metadata": {
        "execution": {
          "iopub.execute_input": "2022-01-29T20:26:01.360893Z",
          "iopub.status.busy": "2022-01-29T20:26:01.360686Z",
          "iopub.status.idle": "2022-01-29T20:26:02.497804Z",
          "shell.execute_reply": "2022-01-29T20:26:02.496894Z",
          "shell.execute_reply.started": "2022-01-29T20:26:01.360865Z"
        },
        "trusted": true,
        "id": "gCaUPE6BP-Fj",
        "colab": {
          "base_uri": "https://localhost:8080/"
        },
        "outputId": "169517a1-066b-4b08-d9f7-0148bd215047"
      },
      "outputs": [
        {
          "output_type": "stream",
          "name": "stdout",
          "text": [
            "990\n",
            "(30, 64, 1292, 1)\n"
          ]
        }
      ],
      "source": [
        "tracks, labels = tracks_, labels_\n",
        "\n",
        "\n",
        "track_labels = list(zip(tracks, labels))\n",
        "\n",
        "random.shuffle(track_labels)\n",
        "\n",
        "train, test, val = train_test_val(track_labels)\n",
        "print(len(train) + len(test) + len(val))\n",
        "\n",
        "\n",
        "train_generator = TrackDataGen(train)\n",
        "print(train_generator[0][0].shape)\n",
        "validation_generator = TrackDataGen(val)\n",
        "\n",
        "\n"
      ]
    },
    {
      "cell_type": "code",
      "source": [
        ""
      ],
      "metadata": {
        "id": "B4QA36sZWFyO"
      },
      "execution_count": 160,
      "outputs": []
    },
    {
      "cell_type": "code",
      "execution_count": 161,
      "metadata": {
        "execution": {
          "iopub.execute_input": "2022-01-29T20:26:02.501759Z",
          "iopub.status.busy": "2022-01-29T20:26:02.499336Z",
          "iopub.status.idle": "2022-01-29T20:27:42.859789Z",
          "shell.execute_reply": "2022-01-29T20:27:42.858736Z",
          "shell.execute_reply.started": "2022-01-29T20:26:02.501710Z"
        },
        "trusted": true,
        "id": "9sDdi9hLP-Fk",
        "colab": {
          "base_uri": "https://localhost:8080/"
        },
        "outputId": "54924e02-b9fd-42d8-eff7-dcc733c0f1ce"
      },
      "outputs": [
        {
          "output_type": "stream",
          "name": "stdout",
          "text": [
            "Epoch 1/100\n",
            "29/29 [==============================] - 5s 140ms/step - loss: 3.7559 - accuracy: 0.1345 - val_loss: 2.2192 - val_accuracy: 0.0333\n",
            "Epoch 2/100\n",
            "29/29 [==============================] - 4s 130ms/step - loss: 2.1334 - accuracy: 0.2103 - val_loss: 1.9117 - val_accuracy: 0.2000\n",
            "Epoch 3/100\n",
            "29/29 [==============================] - 4s 129ms/step - loss: 2.0365 - accuracy: 0.2862 - val_loss: 1.5153 - val_accuracy: 0.3667\n",
            "Epoch 4/100\n",
            "29/29 [==============================] - 4s 130ms/step - loss: 1.8137 - accuracy: 0.3310 - val_loss: 1.4835 - val_accuracy: 0.5000\n",
            "Epoch 5/100\n",
            "29/29 [==============================] - 4s 128ms/step - loss: 1.7276 - accuracy: 0.3770 - val_loss: 1.4558 - val_accuracy: 0.5667\n",
            "Epoch 6/100\n",
            "29/29 [==============================] - 4s 130ms/step - loss: 1.6913 - accuracy: 0.4391 - val_loss: 1.7446 - val_accuracy: 0.3333\n",
            "Epoch 7/100\n",
            "29/29 [==============================] - 4s 129ms/step - loss: 1.2319 - accuracy: 0.5885 - val_loss: 1.7640 - val_accuracy: 0.5333\n",
            "Epoch 8/100\n",
            "29/29 [==============================] - 4s 130ms/step - loss: 1.2430 - accuracy: 0.5931 - val_loss: 1.7707 - val_accuracy: 0.3000\n",
            "Epoch 9/100\n",
            "29/29 [==============================] - 4s 129ms/step - loss: 0.9244 - accuracy: 0.6954 - val_loss: 1.3670 - val_accuracy: 0.4000\n",
            "Epoch 10/100\n",
            "29/29 [==============================] - 4s 130ms/step - loss: 0.6253 - accuracy: 0.8023 - val_loss: 1.7302 - val_accuracy: 0.4667\n",
            "Epoch 11/100\n",
            "29/29 [==============================] - 4s 129ms/step - loss: 0.5094 - accuracy: 0.8345 - val_loss: 1.7355 - val_accuracy: 0.5333\n",
            "Epoch 12/100\n",
            "29/29 [==============================] - 4s 130ms/step - loss: 0.3454 - accuracy: 0.9011 - val_loss: 1.3812 - val_accuracy: 0.6333\n",
            "Epoch 13/100\n",
            "29/29 [==============================] - 4s 129ms/step - loss: 0.2925 - accuracy: 0.9184 - val_loss: 4.0163 - val_accuracy: 0.3667\n",
            "Epoch 14/100\n",
            "29/29 [==============================] - 4s 130ms/step - loss: 0.2362 - accuracy: 0.9425 - val_loss: 1.1051 - val_accuracy: 0.6667\n",
            "Epoch 15/100\n",
            "29/29 [==============================] - 4s 129ms/step - loss: 0.2014 - accuracy: 0.9586 - val_loss: 2.7710 - val_accuracy: 0.5333\n",
            "Epoch 16/100\n",
            "29/29 [==============================] - 4s 130ms/step - loss: 0.4587 - accuracy: 0.9046 - val_loss: 1.3313 - val_accuracy: 0.6667\n",
            "Epoch 17/100\n",
            "29/29 [==============================] - 4s 129ms/step - loss: 0.0250 - accuracy: 0.9920 - val_loss: 1.7205 - val_accuracy: 0.7333\n",
            "Epoch 18/100\n",
            "29/29 [==============================] - 4s 130ms/step - loss: 0.0086 - accuracy: 0.9977 - val_loss: 1.7436 - val_accuracy: 0.7667\n",
            "Epoch 19/100\n",
            "29/29 [==============================] - 4s 129ms/step - loss: 0.4220 - accuracy: 0.9310 - val_loss: 2.2613 - val_accuracy: 0.5333\n",
            "Epoch 20/100\n",
            "29/29 [==============================] - 4s 130ms/step - loss: 0.4901 - accuracy: 0.9207 - val_loss: 1.5395 - val_accuracy: 0.7000\n",
            "Epoch 21/100\n",
            "29/29 [==============================] - 4s 129ms/step - loss: 0.0081 - accuracy: 0.9977 - val_loss: 1.8173 - val_accuracy: 0.7000\n",
            "Epoch 22/100\n",
            "29/29 [==============================] - 4s 129ms/step - loss: 0.8060 - accuracy: 0.9126 - val_loss: 1.2834 - val_accuracy: 0.5667\n",
            "Epoch 23/100\n",
            "29/29 [==============================] - 4s 129ms/step - loss: 0.0178 - accuracy: 0.9966 - val_loss: 1.4596 - val_accuracy: 0.7000\n",
            "Epoch 24/100\n",
            "29/29 [==============================] - 4s 131ms/step - loss: 0.5177 - accuracy: 0.9023 - val_loss: 1.8502 - val_accuracy: 0.6000\n",
            "Epoch 25/100\n",
            "29/29 [==============================] - 4s 129ms/step - loss: 0.0244 - accuracy: 0.9954 - val_loss: 1.8559 - val_accuracy: 0.6333\n",
            "Epoch 26/100\n",
            "29/29 [==============================] - 4s 131ms/step - loss: 0.2531 - accuracy: 0.9391 - val_loss: 5.9261 - val_accuracy: 0.4667\n",
            "Epoch 27/100\n",
            "29/29 [==============================] - 4s 129ms/step - loss: 0.2051 - accuracy: 0.9563 - val_loss: 1.7203 - val_accuracy: 0.6333\n",
            "Epoch 28/100\n",
            "29/29 [==============================] - 4s 130ms/step - loss: 0.0058 - accuracy: 0.9989 - val_loss: 1.6744 - val_accuracy: 0.6333\n",
            "Epoch 29/100\n",
            "29/29 [==============================] - 4s 130ms/step - loss: 0.4182 - accuracy: 0.9333 - val_loss: 1.4779 - val_accuracy: 0.5667\n",
            "Epoch 30/100\n",
            "29/29 [==============================] - 4s 129ms/step - loss: 0.1986 - accuracy: 0.9632 - val_loss: 3.6825 - val_accuracy: 0.4000\n",
            "Epoch 31/100\n",
            "29/29 [==============================] - 4s 131ms/step - loss: 0.1229 - accuracy: 0.9644 - val_loss: 1.9339 - val_accuracy: 0.6000\n",
            "Epoch 32/100\n",
            "29/29 [==============================] - 4s 130ms/step - loss: 0.0043 - accuracy: 0.9977 - val_loss: 2.2036 - val_accuracy: 0.5667\n",
            "Epoch 33/100\n",
            "29/29 [==============================] - 4s 129ms/step - loss: 1.3167 - accuracy: 0.9218 - val_loss: 1.2045 - val_accuracy: 0.7000\n",
            "Epoch 34/100\n",
            "29/29 [==============================] - 4s 130ms/step - loss: 0.0053 - accuracy: 0.9977 - val_loss: 1.0935 - val_accuracy: 0.6667\n",
            "Epoch 35/100\n",
            "29/29 [==============================] - 4s 129ms/step - loss: 0.3621 - accuracy: 0.9529 - val_loss: 2.4494 - val_accuracy: 0.6000\n",
            "Epoch 36/100\n",
            "29/29 [==============================] - 4s 130ms/step - loss: 0.2899 - accuracy: 0.9471 - val_loss: 4.7067 - val_accuracy: 0.4333\n",
            "Epoch 37/100\n",
            "29/29 [==============================] - 4s 129ms/step - loss: 0.0661 - accuracy: 0.9862 - val_loss: 1.6429 - val_accuracy: 0.6333\n",
            "Epoch 38/100\n",
            "29/29 [==============================] - 4s 130ms/step - loss: 0.2444 - accuracy: 0.9713 - val_loss: 3.1116 - val_accuracy: 0.5333\n",
            "Epoch 39/100\n",
            "29/29 [==============================] - 4s 129ms/step - loss: 0.0760 - accuracy: 0.9874 - val_loss: 5.1231 - val_accuracy: 0.3333\n",
            "Epoch 40/100\n",
            "29/29 [==============================] - 4s 130ms/step - loss: 0.1562 - accuracy: 0.9632 - val_loss: 2.4775 - val_accuracy: 0.5000\n",
            "Epoch 41/100\n",
            "29/29 [==============================] - 4s 129ms/step - loss: 0.6246 - accuracy: 0.9517 - val_loss: 2.5875 - val_accuracy: 0.5667\n",
            "Epoch 42/100\n",
            "29/29 [==============================] - 4s 131ms/step - loss: 0.0482 - accuracy: 0.9897 - val_loss: 1.6720 - val_accuracy: 0.6667\n",
            "Epoch 43/100\n",
            "29/29 [==============================] - 4s 129ms/step - loss: 0.0082 - accuracy: 0.9989 - val_loss: 2.0554 - val_accuracy: 0.6667\n",
            "Epoch 44/100\n",
            "29/29 [==============================] - 4s 130ms/step - loss: 0.2653 - accuracy: 0.9678 - val_loss: 3.5306 - val_accuracy: 0.4667\n",
            "Epoch 45/100\n",
            "29/29 [==============================] - 4s 129ms/step - loss: 0.0803 - accuracy: 0.9816 - val_loss: 2.3230 - val_accuracy: 0.5000\n",
            "Epoch 46/100\n",
            "29/29 [==============================] - 4s 130ms/step - loss: 0.0028 - accuracy: 0.9977 - val_loss: 2.2120 - val_accuracy: 0.6000\n",
            "Epoch 47/100\n",
            "29/29 [==============================] - 4s 129ms/step - loss: 1.2883 - accuracy: 0.9138 - val_loss: 1.5129 - val_accuracy: 0.6333\n",
            "Epoch 48/100\n",
            "29/29 [==============================] - 4s 131ms/step - loss: 0.0552 - accuracy: 0.9851 - val_loss: 1.5219 - val_accuracy: 0.6667\n",
            "Epoch 49/100\n",
            "29/29 [==============================] - 4s 129ms/step - loss: 0.0052 - accuracy: 0.9977 - val_loss: 3.4642 - val_accuracy: 0.5667\n",
            "Epoch 50/100\n",
            "29/29 [==============================] - 4s 129ms/step - loss: 0.4994 - accuracy: 0.9667 - val_loss: 3.1534 - val_accuracy: 0.5333\n",
            "Epoch 51/100\n",
            "29/29 [==============================] - 4s 130ms/step - loss: 0.1235 - accuracy: 0.9759 - val_loss: 2.4324 - val_accuracy: 0.6333\n",
            "Epoch 52/100\n",
            "29/29 [==============================] - 4s 130ms/step - loss: 0.0076 - accuracy: 0.9977 - val_loss: 2.6616 - val_accuracy: 0.6667\n",
            "Epoch 53/100\n",
            "29/29 [==============================] - 4s 130ms/step - loss: 0.0036 - accuracy: 0.9977 - val_loss: 2.6339 - val_accuracy: 0.6333\n",
            "Epoch 54/100\n",
            "29/29 [==============================] - 4s 131ms/step - loss: 0.6789 - accuracy: 0.9103 - val_loss: 1.1460 - val_accuracy: 0.7333\n",
            "Epoch 55/100\n",
            "29/29 [==============================] - 4s 130ms/step - loss: 0.0127 - accuracy: 0.9943 - val_loss: 2.6013 - val_accuracy: 0.5333\n",
            "Epoch 56/100\n",
            "29/29 [==============================] - 4s 131ms/step - loss: 0.4503 - accuracy: 0.9379 - val_loss: 4.1246 - val_accuracy: 0.4667\n",
            "Epoch 57/100\n",
            "29/29 [==============================] - 4s 129ms/step - loss: 0.0316 - accuracy: 0.9908 - val_loss: 2.2690 - val_accuracy: 0.5667\n",
            "Epoch 58/100\n",
            "29/29 [==============================] - 4s 131ms/step - loss: 0.0049 - accuracy: 0.9989 - val_loss: 2.1569 - val_accuracy: 0.6333\n",
            "Epoch 59/100\n",
            "29/29 [==============================] - 4s 129ms/step - loss: 0.8642 - accuracy: 0.9172 - val_loss: 2.3740 - val_accuracy: 0.6000\n",
            "Epoch 60/100\n",
            "29/29 [==============================] - 4s 131ms/step - loss: 0.0289 - accuracy: 0.9931 - val_loss: 3.1964 - val_accuracy: 0.5000\n",
            "Epoch 61/100\n",
            "29/29 [==============================] - 4s 130ms/step - loss: 0.0024 - accuracy: 0.9977 - val_loss: 3.2936 - val_accuracy: 0.5000\n",
            "Epoch 62/100\n",
            "29/29 [==============================] - 4s 129ms/step - loss: 0.0032 - accuracy: 0.9977 - val_loss: 3.5987 - val_accuracy: 0.5000\n",
            "Epoch 63/100\n",
            "29/29 [==============================] - 4s 129ms/step - loss: 1.3560 - accuracy: 0.9253 - val_loss: 3.5292 - val_accuracy: 0.6333\n",
            "Epoch 64/100\n",
            "29/29 [==============================] - 4s 130ms/step - loss: 0.0049 - accuracy: 0.9977 - val_loss: 3.8963 - val_accuracy: 0.4667\n",
            "Epoch 65/100\n",
            "29/29 [==============================] - 4s 130ms/step - loss: 0.0041 - accuracy: 0.9989 - val_loss: 3.8420 - val_accuracy: 0.5000\n",
            "Epoch 66/100\n",
            "29/29 [==============================] - 4s 131ms/step - loss: 0.0035 - accuracy: 0.9977 - val_loss: 9.0086 - val_accuracy: 0.3333\n",
            "Epoch 67/100\n",
            "29/29 [==============================] - 4s 129ms/step - loss: 1.5974 - accuracy: 0.9138 - val_loss: 1.6253 - val_accuracy: 0.6667\n",
            "Epoch 68/100\n",
            "29/29 [==============================] - 4s 131ms/step - loss: 0.0060 - accuracy: 0.9977 - val_loss: 2.2822 - val_accuracy: 0.5667\n",
            "Epoch 69/100\n",
            "29/29 [==============================] - 4s 130ms/step - loss: 0.0023 - accuracy: 0.9977 - val_loss: 2.3905 - val_accuracy: 0.6000\n",
            "Epoch 70/100\n",
            "29/29 [==============================] - 4s 132ms/step - loss: 0.6164 - accuracy: 0.9310 - val_loss: 3.7424 - val_accuracy: 0.6000\n",
            "Epoch 71/100\n",
            "29/29 [==============================] - 4s 129ms/step - loss: 0.0123 - accuracy: 0.9954 - val_loss: 4.0964 - val_accuracy: 0.5333\n",
            "Epoch 72/100\n",
            "29/29 [==============================] - 4s 131ms/step - loss: 0.0040 - accuracy: 0.9989 - val_loss: 4.1172 - val_accuracy: 0.6000\n",
            "Epoch 73/100\n",
            "29/29 [==============================] - 4s 129ms/step - loss: 1.1316 - accuracy: 0.9402 - val_loss: 3.1265 - val_accuracy: 0.6000\n",
            "Epoch 74/100\n",
            "29/29 [==============================] - 4s 131ms/step - loss: 0.0509 - accuracy: 0.9828 - val_loss: 3.2852 - val_accuracy: 0.6667\n",
            "Epoch 75/100\n",
            "29/29 [==============================] - 4s 129ms/step - loss: 0.0053 - accuracy: 0.9966 - val_loss: 3.0773 - val_accuracy: 0.6333\n",
            "Epoch 76/100\n",
            "29/29 [==============================] - 4s 130ms/step - loss: 0.5275 - accuracy: 0.9506 - val_loss: 3.2397 - val_accuracy: 0.6000\n",
            "Epoch 77/100\n",
            "29/29 [==============================] - 4s 129ms/step - loss: 0.0798 - accuracy: 0.9816 - val_loss: 3.5947 - val_accuracy: 0.5333\n",
            "Epoch 78/100\n",
            "29/29 [==============================] - 4s 131ms/step - loss: 0.2641 - accuracy: 0.9632 - val_loss: 6.2997 - val_accuracy: 0.5333\n",
            "Epoch 79/100\n",
            "29/29 [==============================] - 4s 130ms/step - loss: 0.1295 - accuracy: 0.9747 - val_loss: 3.5416 - val_accuracy: 0.5667\n",
            "Epoch 80/100\n",
            "29/29 [==============================] - 4s 131ms/step - loss: 0.0036 - accuracy: 0.9989 - val_loss: 3.5203 - val_accuracy: 0.5333\n",
            "Epoch 81/100\n",
            "29/29 [==============================] - 4s 129ms/step - loss: 0.0040 - accuracy: 0.9989 - val_loss: 3.8195 - val_accuracy: 0.5333\n",
            "Epoch 82/100\n",
            "29/29 [==============================] - 4s 130ms/step - loss: 0.9368 - accuracy: 0.9540 - val_loss: 4.7889 - val_accuracy: 0.5667\n",
            "Epoch 83/100\n",
            "29/29 [==============================] - 4s 129ms/step - loss: 0.1406 - accuracy: 0.9736 - val_loss: 3.7914 - val_accuracy: 0.6667\n",
            "Epoch 84/100\n",
            "29/29 [==============================] - 4s 129ms/step - loss: 0.0043 - accuracy: 0.9989 - val_loss: 3.2885 - val_accuracy: 0.6000\n",
            "Epoch 85/100\n",
            "29/29 [==============================] - 4s 132ms/step - loss: 0.1882 - accuracy: 0.9713 - val_loss: 4.4675 - val_accuracy: 0.6000\n",
            "Epoch 86/100\n",
            "29/29 [==============================] - 4s 131ms/step - loss: 0.0039 - accuracy: 0.9977 - val_loss: 4.6368 - val_accuracy: 0.6333\n",
            "Epoch 87/100\n",
            "29/29 [==============================] - 4s 129ms/step - loss: 0.7155 - accuracy: 0.9483 - val_loss: 3.4728 - val_accuracy: 0.6667\n",
            "Epoch 88/100\n",
            "29/29 [==============================] - 4s 130ms/step - loss: 0.1676 - accuracy: 0.9736 - val_loss: 7.8044 - val_accuracy: 0.4667\n",
            "Epoch 89/100\n",
            "29/29 [==============================] - 4s 129ms/step - loss: 0.1177 - accuracy: 0.9816 - val_loss: 6.4121 - val_accuracy: 0.4333\n",
            "Epoch 90/100\n",
            "29/29 [==============================] - 4s 131ms/step - loss: 0.2910 - accuracy: 0.9667 - val_loss: 5.4371 - val_accuracy: 0.6000\n",
            "Epoch 91/100\n",
            "29/29 [==============================] - 4s 129ms/step - loss: 0.0103 - accuracy: 0.9966 - val_loss: 4.6633 - val_accuracy: 0.5667\n",
            "Epoch 92/100\n",
            "29/29 [==============================] - 4s 131ms/step - loss: 0.0029 - accuracy: 0.9977 - val_loss: 4.6390 - val_accuracy: 0.6000\n",
            "Epoch 93/100\n",
            "29/29 [==============================] - 4s 129ms/step - loss: 0.0420 - accuracy: 0.9943 - val_loss: 10.8302 - val_accuracy: 0.5000\n",
            "Epoch 94/100\n",
            "29/29 [==============================] - 4s 130ms/step - loss: 0.7443 - accuracy: 0.9517 - val_loss: 8.1467 - val_accuracy: 0.5333\n",
            "Epoch 95/100\n",
            "29/29 [==============================] - 4s 129ms/step - loss: 0.2413 - accuracy: 0.9644 - val_loss: 6.3052 - val_accuracy: 0.6667\n",
            "Epoch 96/100\n",
            "29/29 [==============================] - 4s 131ms/step - loss: 0.1351 - accuracy: 0.9759 - val_loss: 5.4639 - val_accuracy: 0.6000\n",
            "Epoch 97/100\n",
            "29/29 [==============================] - 4s 130ms/step - loss: 0.2880 - accuracy: 0.9644 - val_loss: 5.3294 - val_accuracy: 0.6333\n",
            "Epoch 98/100\n",
            "29/29 [==============================] - 4s 130ms/step - loss: 0.0935 - accuracy: 0.9828 - val_loss: 6.6217 - val_accuracy: 0.6000\n",
            "Epoch 99/100\n",
            "29/29 [==============================] - 4s 130ms/step - loss: 0.0051 - accuracy: 0.9977 - val_loss: 5.0573 - val_accuracy: 0.6000\n",
            "Epoch 100/100\n",
            "29/29 [==============================] - 4s 130ms/step - loss: 0.0358 - accuracy: 0.9920 - val_loss: 14.6044 - val_accuracy: 0.4333\n"
          ]
        }
      ],
      "source": [
        "model = keras.models.Sequential([\n",
        "    tf.keras.layers.Conv2D(32, (5,5), activation=keras.layers.LeakyReLU(alpha=0.01)),\n",
        "    tf.keras.layers.MaxPooling2D(2, 2),\n",
        "    tf.keras.layers.Conv2D(32, (5,5), activation=keras.layers.LeakyReLU(alpha=0.01)),\n",
        "    tf.keras.layers.MaxPooling2D(2, 2),\n",
        "    tf.keras.layers.Conv2D(32, (5,5), activation=keras.layers.LeakyReLU(alpha=0.01)),\n",
        "    tf.keras.layers.MaxPooling2D(2, 2),                                       \n",
        "    \n",
        "    tf.keras.layers.AveragePooling2D(pool_size=(2, 2)),\n",
        "\n",
        "    tf.keras.layers.Flatten(),\n",
        "    \n",
        "    tf.keras.layers.Dense(256, activation=keras.layers.LeakyReLU(alpha=0.01)),\n",
        "    tf.keras.layers.Dense(128, activation=keras.layers.LeakyReLU(alpha=0.01)),\n",
        "    tf.keras.layers.Dense(64, activation=keras.layers.LeakyReLU(alpha=0.01)),\n",
        "    tf.keras.layers.Dense(10, activation='softmax'),  \n",
        "])\n",
        "\n",
        "model.compile(loss = 'sparse_categorical_crossentropy', optimizer='rmsprop', metrics=['accuracy'])\n",
        "\n",
        "history = model.fit(train_generator,\n",
        "                     validation_data = validation_generator, \n",
        "                     #validation_steps = len(tracks) // BATCH_SIZE,\n",
        "                     epochs=100 \n",
        "                     )"
      ]
    },
    {
      "cell_type": "code",
      "source": [
        "\n",
        "test_generator = TrackDataGen(test)\n",
        "results = model.evaluate(test_generator)\n",
        "print(\"test loss, test acc:\", results)"
      ],
      "metadata": {
        "colab": {
          "base_uri": "https://localhost:8080/"
        },
        "id": "h1OypVX_J4hd",
        "outputId": "73a435b0-92f3-4a00-b9f4-3deeb342d18d"
      },
      "execution_count": 166,
      "outputs": [
        {
          "output_type": "stream",
          "name": "stdout",
          "text": [
            "2/2 [==============================] - 0s 63ms/step - loss: 18.2420 - accuracy: 0.3667\n",
            "test loss, test acc: [18.242033004760742, 0.36666667461395264]\n"
          ]
        }
      ]
    },
    {
      "cell_type": "code",
      "source": [
        ""
      ],
      "metadata": {
        "id": "gAymI9MpKojF"
      },
      "execution_count": null,
      "outputs": []
    },
    {
      "cell_type": "code",
      "execution_count": 163,
      "metadata": {
        "execution": {
          "iopub.execute_input": "2022-01-29T20:46:31.143603Z",
          "iopub.status.busy": "2022-01-29T20:46:31.143286Z",
          "iopub.status.idle": "2022-01-29T20:46:31.557126Z",
          "shell.execute_reply": "2022-01-29T20:46:31.554094Z",
          "shell.execute_reply.started": "2022-01-29T20:46:31.143568Z"
        },
        "trusted": true,
        "id": "cAQttoN-P-Fk",
        "colab": {
          "base_uri": "https://localhost:8080/",
          "height": 298
        },
        "outputId": "0d2ea91d-e049-4c75-bc38-ee60d3dc5083"
      },
      "outputs": [
        {
          "output_type": "display_data",
          "data": {
            "image/png": "[encoded data removed]",
            "text/plain": [
              "<Figure size 432x288 with 1 Axes>"
            ]
          },
          "metadata": {
            "needs_background": "light"
          }
        },
        {
          "output_type": "display_data",
          "data": {
            "text/plain": [
              "<Figure size 432x288 with 0 Axes>"
            ]
          },
          "metadata": {}
        }
      ],
      "source": [
        "import matplotlib.pyplot as plt\n",
        "acc = history.history['accuracy']\n",
        "val_acc = history.history['val_accuracy']\n",
        "loss = history.history['loss']\n",
        "val_loss = history.history['val_loss']\n",
        "\n",
        "epochs = range(len(acc))\n",
        "\n",
        "plt.plot(epochs, acc, 'r', label='Training accuracy')\n",
        "plt.plot(epochs, val_acc, 'b', label='Validation accuracy')\n",
        "plt.title('Training and validation accuracy')\n",
        "plt.legend(loc=0)\n",
        "plt.figure()\n",
        "\n",
        "\n",
        "plt.show()"
      ]
    },
    {
      "cell_type": "code",
      "execution_count": null,
      "metadata": {
        "execution": {
          "iopub.execute_input": "2022-01-29T20:45:37.786868Z",
          "iopub.status.busy": "2022-01-29T20:45:37.786536Z",
          "iopub.status.idle": "2022-01-29T20:45:43.449248Z",
          "shell.execute_reply": "2022-01-29T20:45:43.447971Z",
          "shell.execute_reply.started": "2022-01-29T20:45:37.786833Z"
        },
        "trusted": true,
        "id": "vhgX3FR5P-Fk"
      },
      "outputs": [],
      "source": [
        "import requests\n",
        "from IPython import display\n",
        "url = input()\n",
        "r = requests.get(url, allow_redirects=True)\n",
        "open('test.mp3', 'wb').write(r.content)\n",
        "\n",
        "Y, sr = librosa.load('test.mp3')\n",
        "\n",
        "track = preprocess_track(Y, sr)\n",
        "\n",
        "pred = model.predict(np.expand_dims([track], axis=3))\n",
        "print(pred)\n",
        "print(LABEL_2_GENRE.get(np.argmax(pred)))\n",
        "\n",
        "display.Audio(\"test.mp3\")"
      ]
    }
  ],
  "metadata": {
    "kernelspec": {
      "display_name": "Python 3",
      "language": "python",
      "name": "python3"
    },
    "language_info": {
      "codemirror_mode": {
        "name": "ipython",
        "version": 3
      },
      "file_extension": ".py",
      "mimetype": "text/x-python",
      "name": "python",
      "nbconvert_exporter": "python",
      "pygments_lexer": "ipython3",
      "version": "3.8.12"
    },
    "colab": {
      "name": "gtzan_demo_train.ipynb",
      "provenance": []
    },
    "accelerator": "GPU"
  },
  "nbformat": 4,
  "nbformat_minor": 0
}