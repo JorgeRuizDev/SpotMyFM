{
  "cells": [
    {
      "cell_type": "code",
      "execution_count": 22,
      "metadata": {
        "execution": {
          "iopub.execute_input": "2022-01-29T20:23:53.858155Z",
          "iopub.status.busy": "2022-01-29T20:23:53.856814Z",
          "iopub.status.idle": "2022-01-29T20:23:53.864056Z",
          "shell.execute_reply": "2022-01-29T20:23:53.862669Z",
          "shell.execute_reply.started": "2022-01-29T20:23:53.858104Z"
        },
        "trusted": true,
        "id": "Qv0vR00IP-FZ"
      },
      "outputs": [],
      "source": [
        "#!pip install tensorflow librosa"
      ]
    },
    {
      "cell_type": "markdown",
      "metadata": {
        "id": "iJQ9_KkJP-Fc"
      },
      "source": [
        "[![Open In Colab](https://colab.research.google.com/assets/colab-badge.svg)](https://colab.research.google.com/github/JorgeRuizDev/SpotMyFM/blob/main/Ludwig/notebooks/gtzan/gtzan_demo_train.ipynb)\n",
        "[![Kaggle](https://kaggle.com/static/images/open-in-kaggle.svg)](https://kaggle.com/kernels/welcome?src=https://github.com/JorgeRuizDev/SpotMyFM/blob/main/Ludwig/notebooks/gtzan/gtzan_demo_train.ipynb)"
      ]
    },
    {
      "cell_type": "code",
      "execution_count": 23,
      "metadata": {
        "execution": {
          "iopub.execute_input": "2022-01-29T20:23:53.867589Z",
          "iopub.status.busy": "2022-01-29T20:23:53.866881Z",
          "iopub.status.idle": "2022-01-29T20:24:00.703827Z",
          "shell.execute_reply": "2022-01-29T20:24:00.702643Z",
          "shell.execute_reply.started": "2022-01-29T20:23:53.867543Z"
        },
        "trusted": true,
        "id": "ONEDfB7KP-Fd"
      },
      "outputs": [],
      "source": [
        "# Imports\n",
        "import tensorflow as tf\n",
        "from tensorflow.python.keras.api import keras\n",
        "from tensorflow.python.keras.api.keras.preprocessing.image import ImageDataGenerator\n",
        "\n",
        "import os\n",
        "from pathlib import Path\n",
        "from IPython.core.display import HTML, display\n",
        "\n",
        "import librosa\n",
        "\n",
        "import numpy as np\n",
        "\n",
        "from typing import Union, Any"
      ]
    },
    {
      "cell_type": "code",
      "execution_count": 24,
      "metadata": {
        "execution": {
          "iopub.execute_input": "2022-01-29T20:24:00.706585Z",
          "iopub.status.busy": "2022-01-29T20:24:00.706230Z",
          "iopub.status.idle": "2022-01-29T20:24:00.720547Z",
          "shell.execute_reply": "2022-01-29T20:24:00.719450Z",
          "shell.execute_reply.started": "2022-01-29T20:24:00.706526Z"
        },
        "trusted": true,
        "id": "U5pkmgXaP-Fe"
      },
      "outputs": [],
      "source": [
        "def download():\n",
        "  #!pip install kaggle\n",
        "  import os\n",
        "  os.environ['KAGGLE_USERNAME'] = \"jorgeruizdev\"\n",
        "  os.environ['KAGGLE_KEY'] = \"72515637b3398010225be57a4b0ee84c\"\n",
        "  !kaggle datasets download -d andradaolteanu/gtzan-dataset-music-genre-classification\n",
        "  !unzip -qq /content/gtzan-dataset-music-genre-classification.zip\n",
        "#download()"
      ]
    },
    {
      "cell_type": "code",
      "execution_count": 25,
      "metadata": {
        "execution": {
          "iopub.execute_input": "2022-01-29T20:24:00.725149Z",
          "iopub.status.busy": "2022-01-29T20:24:00.724859Z",
          "iopub.status.idle": "2022-01-29T20:24:00.904893Z",
          "shell.execute_reply": "2022-01-29T20:24:00.903566Z",
          "shell.execute_reply.started": "2022-01-29T20:24:00.725113Z"
        },
        "trusted": true,
        "colab": {
          "base_uri": "https://localhost:8080/"
        },
        "id": "n7c7ZS8pP-Ff",
        "outputId": "ec38c485-43a7-41ca-cc55-f6ac895533c1"
      },
      "outputs": [
        {
          "output_type": "stream",
          "name": "stdout",
          "text": [
            "2.7.0\n",
            "[PhysicalDevice(name='/physical_device:GPU:0', device_type='GPU')]\n"
          ]
        }
      ],
      "source": [
        "print(tf. __version__)\n",
        "print(tf.config.list_physical_devices('GPU'))\n"
      ]
    },
    {
      "cell_type": "code",
      "execution_count": 26,
      "metadata": {
        "execution": {
          "iopub.execute_input": "2022-01-29T20:24:00.908090Z",
          "iopub.status.busy": "2022-01-29T20:24:00.907269Z",
          "iopub.status.idle": "2022-01-29T20:24:00.921762Z",
          "shell.execute_reply": "2022-01-29T20:24:00.920621Z",
          "shell.execute_reply.started": "2022-01-29T20:24:00.908035Z"
        },
        "trusted": true,
        "id": "r9yEssxXP-Ff"
      },
      "outputs": [],
      "source": [
        "# CONFIG\n",
        "\n",
        "SAMPLE_RATE = None\n",
        "\n",
        "# Dataset:\n",
        "DATASET_PATH = \"/content/Data\"\n",
        "\n",
        "GENRES_PATH = f\"{DATASET_PATH}/genres_original\"\n",
        "\n",
        "GENRES = os.listdir(GENRES_PATH)\n",
        "\n",
        "# Training\n",
        "BATCH_SIZE = 20\n"
      ]
    },
    {
      "cell_type": "code",
      "execution_count": 27,
      "metadata": {
        "execution": {
          "iopub.execute_input": "2022-01-29T20:24:00.925444Z",
          "iopub.status.busy": "2022-01-29T20:24:00.925202Z",
          "iopub.status.idle": "2022-01-29T20:24:00.933974Z",
          "shell.execute_reply": "2022-01-29T20:24:00.932667Z",
          "shell.execute_reply.started": "2022-01-29T20:24:00.925413Z"
        },
        "trusted": true,
        "colab": {
          "base_uri": "https://localhost:8080/"
        },
        "id": "7dyK7CF4P-Fg",
        "outputId": "d461c7d8-d0b9-496d-b7f3-ecbffd951961"
      },
      "outputs": [
        {
          "output_type": "stream",
          "name": "stdout",
          "text": [
            "Genre to Label Dict: {'classical': 0, 'jazz': 1, 'hiphop': 2, 'pop': 3, 'rock': 4, 'disco': 5, 'blues': 6, 'metal': 7, 'country': 8, 'reggae': 9}\n",
            "Label to Genre Dict: {0: 'classical', 1: 'jazz', 2: 'hiphop', 3: 'pop', 4: 'rock', 5: 'disco', 6: 'blues', 7: 'metal', 8: 'country', 9: 'reggae'}\n"
          ]
        }
      ],
      "source": [
        "GENRE_2_LABEL = {k: v for v, k in enumerate(GENRES)}\n",
        "LABEL_2_GENRE = {v: k for k,v in GENRE_2_LABEL.items()}\n",
        "print(f\"Genre to Label Dict: {GENRE_2_LABEL}\")\n",
        "print(f\"Label to Genre Dict: {LABEL_2_GENRE}\")"
      ]
    },
    {
      "cell_type": "code",
      "execution_count": 28,
      "metadata": {
        "execution": {
          "iopub.execute_input": "2022-01-29T20:24:00.937080Z",
          "iopub.status.busy": "2022-01-29T20:24:00.936155Z",
          "iopub.status.idle": "2022-01-29T20:24:00.983849Z",
          "shell.execute_reply": "2022-01-29T20:24:00.982812Z",
          "shell.execute_reply.started": "2022-01-29T20:24:00.937028Z"
        },
        "trusted": true,
        "id": "gpqbcNjFP-Fh"
      },
      "outputs": [],
      "source": [
        "if not len(list(Path(f\"{DATASET_PATH}/genres_original/disco\").glob(\"*.wav\"))) >= 100:\n",
        "  print(f\"\"\"\n",
        "    No subfolder 'genres_original/disco' found under {DATASET_PATH}.\n",
        "    Please download the datasate from https://www.kaggle.com/andradaolteanu/gtzan-dataset-music-genre-classification and\n",
        "    unzip it under {DATASET_PATH}.\n",
        "  \"\"\")\n",
        "  raise IOError\n"
      ]
    },
    {
      "cell_type": "code",
      "source": [
        "def split_track(signal, splits = 5):\n",
        "    samples_per_split = len(signal) // splits\n",
        "    max_split = samples_per_split * splits\n",
        "\n",
        "    return np.array_split(signal[:max_split], splits)\n",
        "\n"
      ],
      "metadata": {
        "id": "1Odq9ar66Tby"
      },
      "execution_count": 29,
      "outputs": []
    },
    {
      "cell_type": "code",
      "execution_count": 36,
      "metadata": {
        "execution": {
          "iopub.execute_input": "2022-01-29T20:35:49.453253Z",
          "iopub.status.busy": "2022-01-29T20:35:49.452881Z",
          "iopub.status.idle": "2022-01-29T20:35:49.461358Z",
          "shell.execute_reply": "2022-01-29T20:35:49.458903Z",
          "shell.execute_reply.started": "2022-01-29T20:35:49.453218Z"
        },
        "trusted": true,
        "id": "zbCPHEpEP-Fh"
      },
      "outputs": [],
      "source": [
        "def preprocess_track(signal: Union[np.ndarray, Any], sr=SAMPLE_RATE):\n",
        "    mfccs = librosa.feature.melspectrogram(signal, sr=sr, n_mels=13)\n",
        "\n",
        "    #log_S = librosa.amplitude_to_db(mfccs)\n",
        "    #delta = librosa.feature.delta(mfccs, order=1)\n",
        "\n",
        "    return mfccs"
      ]
    },
    {
      "cell_type": "code",
      "execution_count": 31,
      "metadata": {
        "execution": {
          "iopub.execute_input": "2022-01-29T20:24:00.996021Z",
          "iopub.status.busy": "2022-01-29T20:24:00.995367Z",
          "iopub.status.idle": "2022-01-29T20:24:01.006806Z",
          "shell.execute_reply": "2022-01-29T20:24:01.005617Z",
          "shell.execute_reply.started": "2022-01-29T20:24:00.995974Z"
        },
        "trusted": true,
        "id": "IYKppEdaP-Fi"
      },
      "outputs": [],
      "source": [
        "def load_data(genre_path=GENRES_PATH):\n",
        "    track_input = []\n",
        "    labels = []\n",
        "    for genre in GENRES:\n",
        "        genre_folder = f\"{genre_path}/{genre}\"\n",
        "        label = GENRE_2_LABEL[genre]\n",
        "        for track in os.listdir(genre_folder):\n",
        "\n",
        "            if (track == \"jazz.00054.wav\"):\n",
        "                # This track is broken \n",
        "                continue\n",
        "\n",
        "            y, sr = librosa.load(f\"{genre_folder}/{track}\", sr=SAMPLE_RATE)\n",
        "            \n",
        "            for split in split_track(y):\n",
        "                track = preprocess_track(y, sr)\n",
        "                \n",
        "                \n",
        "                track_input.append(track)\n",
        "                labels.append(label)\n",
        "\n",
        "    \n",
        "\n",
        "    return np.array(track_input[]), np.array(labels)"
      ]
    },
    {
      "cell_type": "code",
      "execution_count": 32,
      "metadata": {
        "execution": {
          "iopub.execute_input": "2022-01-29T20:24:01.011084Z",
          "iopub.status.busy": "2022-01-29T20:24:01.010727Z",
          "iopub.status.idle": "2022-01-29T20:24:01.023427Z",
          "shell.execute_reply": "2022-01-29T20:24:01.022137Z",
          "shell.execute_reply.started": "2022-01-29T20:24:01.011037Z"
        },
        "trusted": true,
        "id": "lNLPNzGnP-Fj"
      },
      "outputs": [],
      "source": [
        "def unison_shuffled_copies(a, b):\n",
        "    assert len(a) == len(b)\n",
        "    p = np.random.permutation(len(a))\n",
        "    return a[p], b[p]"
      ]
    },
    {
      "cell_type": "code",
      "execution_count": 37,
      "metadata": {
        "execution": {
          "iopub.execute_input": "2022-01-29T20:24:01.025813Z",
          "iopub.status.busy": "2022-01-29T20:24:01.025322Z",
          "iopub.status.idle": "2022-01-29T20:26:01.356746Z",
          "shell.execute_reply": "2022-01-29T20:26:01.355812Z",
          "shell.execute_reply.started": "2022-01-29T20:24:01.025768Z"
        },
        "trusted": true,
        "id": "7OPK7TR3P-Fj",
        "outputId": "a371b57b-70dd-4d08-a399-c1861e93f5e6",
        "colab": {
          "base_uri": "https://localhost:8080/",
          "height": 290
        }
      },
      "outputs": [
        {
          "output_type": "stream",
          "name": "stderr",
          "text": [
            "/usr/local/lib/python3.7/dist-packages/ipykernel_launcher.py:24: VisibleDeprecationWarning: Creating an ndarray from ragged nested sequences (which is a list-or-tuple of lists-or-tuples-or ndarrays with different lengths or shapes) is deprecated. If you meant to do this, you must specify 'dtype=object' when creating the ndarray\n"
          ]
        },
        {
          "output_type": "error",
          "ename": "ValueError",
          "evalue": "ignored",
          "traceback": [
            "\u001b[0;31m---------------------------------------------------------------------------\u001b[0m",
            "\u001b[0;31mValueError\u001b[0m                                Traceback (most recent call last)",
            "\u001b[0;32m<ipython-input-37-3cba310116a8>\u001b[0m in \u001b[0;36m<module>\u001b[0;34m()\u001b[0m\n\u001b[0;32m----> 1\u001b[0;31m \u001b[0mtracks_\u001b[0m\u001b[0;34m,\u001b[0m \u001b[0mlabels_\u001b[0m \u001b[0;34m=\u001b[0m \u001b[0mload_data\u001b[0m\u001b[0;34m(\u001b[0m\u001b[0;34m)\u001b[0m\u001b[0;34m\u001b[0m\u001b[0;34m\u001b[0m\u001b[0m\n\u001b[0m",
            "\u001b[0;32m<ipython-input-31-0a6f644d173a>\u001b[0m in \u001b[0;36mload_data\u001b[0;34m(genre_path)\u001b[0m\n\u001b[1;32m     22\u001b[0m \u001b[0;34m\u001b[0m\u001b[0m\n\u001b[1;32m     23\u001b[0m \u001b[0;34m\u001b[0m\u001b[0m\n\u001b[0;32m---> 24\u001b[0;31m     \u001b[0;32mreturn\u001b[0m \u001b[0mnp\u001b[0m\u001b[0;34m.\u001b[0m\u001b[0marray\u001b[0m\u001b[0;34m(\u001b[0m\u001b[0mtrack_input\u001b[0m\u001b[0;34m)\u001b[0m\u001b[0;34m,\u001b[0m \u001b[0mnp\u001b[0m\u001b[0;34m.\u001b[0m\u001b[0marray\u001b[0m\u001b[0;34m(\u001b[0m\u001b[0mlabels\u001b[0m\u001b[0;34m)\u001b[0m\u001b[0;34m\u001b[0m\u001b[0;34m\u001b[0m\u001b[0m\n\u001b[0m",
            "\u001b[0;31mValueError\u001b[0m: could not broadcast input array from shape (13,1293) into shape (13)"
          ]
        }
      ],
      "source": [
        "tracks_, labels_ = load_data()"
      ]
    },
    {
      "cell_type": "code",
      "source": [
        ""
      ],
      "metadata": {
        "id": "ebrA6u7N9_Mb"
      },
      "execution_count": null,
      "outputs": []
    },
    {
      "cell_type": "code",
      "execution_count": null,
      "metadata": {
        "execution": {
          "iopub.execute_input": "2022-01-29T20:26:01.360893Z",
          "iopub.status.busy": "2022-01-29T20:26:01.360686Z",
          "iopub.status.idle": "2022-01-29T20:26:02.497804Z",
          "shell.execute_reply": "2022-01-29T20:26:02.496894Z",
          "shell.execute_reply.started": "2022-01-29T20:26:01.360865Z"
        },
        "trusted": true,
        "id": "gCaUPE6BP-Fj"
      },
      "outputs": [],
      "source": [
        "tracks, labels = tracks_, labels_\n",
        "\n",
        "shuffled_tracks , shuffled_labels = unison_shuffled_copies(tracks, labels)\n",
        "\n",
        "tracks = np.expand_dims(shuffled_tracks, axis=3)\n",
        "labels = shuffled_labels\n",
        "\n",
        "\n",
        "train_datagen = ImageDataGenerator(rescale = 1./255, validation_split=0.2)\n",
        "\n",
        "train_generator = train_datagen.flow(tracks, labels, batch_size=BATCH_SIZE, subset=\"training\")\n",
        "validation_generator = train_datagen.flow(tracks, labels, batch_size=BATCH_SIZE, subset=\"validation\")\n",
        "\n"
      ]
    },
    {
      "cell_type": "code",
      "execution_count": null,
      "metadata": {
        "execution": {
          "iopub.execute_input": "2022-01-29T20:26:02.501759Z",
          "iopub.status.busy": "2022-01-29T20:26:02.499336Z",
          "iopub.status.idle": "2022-01-29T20:27:42.859789Z",
          "shell.execute_reply": "2022-01-29T20:27:42.858736Z",
          "shell.execute_reply.started": "2022-01-29T20:26:02.501710Z"
        },
        "trusted": true,
        "id": "9sDdi9hLP-Fk"
      },
      "outputs": [],
      "source": [
        "model = keras.models.Sequential([\n",
        "    tf.keras.layers.Conv2D(32, (5,5), activation=keras.layers.LeakyReLU(alpha=0.01), input_shape=(128, 1290, 1)),\n",
        "    tf.keras.layers.MaxPooling2D(2, 2),\n",
        "    tf.keras.layers.Conv2D(32, (5,5), activation=keras.layers.LeakyReLU(alpha=0.01), input_shape=(128, 1290, 1)),\n",
        "    tf.keras.layers.MaxPooling2D(2, 2),\n",
        "    tf.keras.layers.Conv2D(32, (5,5), activation=keras.layers.LeakyReLU(alpha=0.01), input_shape=(128, 1290, 1)),\n",
        "    tf.keras.layers.MaxPooling2D(2, 2),                                       \n",
        "    \n",
        "    tf.keras.layers.AveragePooling2D(pool_size=(2, 2)),\n",
        "\n",
        "    tf.keras.layers.Flatten(),\n",
        "    \n",
        "    tf.keras.layers.Dense(256, activation=keras.layers.LeakyReLU(alpha=0.01)),\n",
        "    tf.keras.layers.Dense(128, activation=keras.layers.LeakyReLU(alpha=0.01)),\n",
        "    tf.keras.layers.Dense(64, activation=keras.layers.LeakyReLU(alpha=0.01)),\n",
        "    tf.keras.layers.Dense(10, activation='softmax'),  \n",
        "])\n",
        "\n",
        "model.compile(loss = 'sparse_categorical_crossentropy', optimizer='rmsprop', metrics=['accuracy'])\n",
        "\n",
        "history = model.fit(train_generator,\n",
        "                     validation_data = validation_generator, \n",
        "                     #validation_steps = len(tracks) // BATCH_SIZE,\n",
        "                     epochs=20 \n",
        "                     )"
      ]
    },
    {
      "cell_type": "code",
      "execution_count": null,
      "metadata": {
        "execution": {
          "iopub.execute_input": "2022-01-29T20:45:37.786868Z",
          "iopub.status.busy": "2022-01-29T20:45:37.786536Z",
          "iopub.status.idle": "2022-01-29T20:45:43.449248Z",
          "shell.execute_reply": "2022-01-29T20:45:43.447971Z",
          "shell.execute_reply.started": "2022-01-29T20:45:37.786833Z"
        },
        "trusted": true,
        "id": "vhgX3FR5P-Fk"
      },
      "outputs": [],
      "source": [
        "import requests\n",
        "from IPython import display\n",
        "url = input()\n",
        "r = requests.get(url, allow_redirects=True)\n",
        "open('test.mp3', 'wb').write(r.content)\n",
        "\n",
        "Y, sr = librosa.load('test.mp3')\n",
        "\n",
        "track = preprocess_track(Y, sr)\n",
        "\n",
        "pred = model.predict(np.expand_dims([track], axis=3))\n",
        "print(pred)\n",
        "print(LABEL_2_GENRE.get(np.argmax(pred)))\n",
        "\n",
        "display.Audio(\"test.mp3\")"
      ]
    },
    {
      "cell_type": "code",
      "execution_count": null,
      "metadata": {
        "execution": {
          "iopub.execute_input": "2022-01-29T20:46:31.143603Z",
          "iopub.status.busy": "2022-01-29T20:46:31.143286Z",
          "iopub.status.idle": "2022-01-29T20:46:31.557126Z",
          "shell.execute_reply": "2022-01-29T20:46:31.554094Z",
          "shell.execute_reply.started": "2022-01-29T20:46:31.143568Z"
        },
        "trusted": true,
        "id": "cAQttoN-P-Fk"
      },
      "outputs": [],
      "source": [
        "import matplotlib.pyplot as plt\n",
        "acc = history.history['accuracy']\n",
        "val_acc = history.history['val_accuracy']\n",
        "loss = history.history['loss']\n",
        "val_loss = history.history['val_loss']\n",
        "\n",
        "epochs = range(len(acc))\n",
        "\n",
        "plt.plot(epochs, acc, 'r', label='Training accuracy')\n",
        "plt.plot(epochs, val_acc, 'b', label='Validation accuracy')\n",
        "plt.title('Training and validation accuracy')\n",
        "plt.legend(loc=0)\n",
        "plt.figure()\n",
        "\n",
        "\n",
        "plt.show()"
      ]
    }
  ],
  "metadata": {
    "kernelspec": {
      "display_name": "Python 3",
      "language": "python",
      "name": "python3"
    },
    "language_info": {
      "codemirror_mode": {
        "name": "ipython",
        "version": 3
      },
      "file_extension": ".py",
      "mimetype": "text/x-python",
      "name": "python",
      "nbconvert_exporter": "python",
      "pygments_lexer": "ipython3",
      "version": "3.8.12"
    },
    "colab": {
      "name": "gtzan_demo_train.ipynb",
      "provenance": []
    },
    "accelerator": "GPU"
  },
  "nbformat": 4,
  "nbformat_minor": 0
}