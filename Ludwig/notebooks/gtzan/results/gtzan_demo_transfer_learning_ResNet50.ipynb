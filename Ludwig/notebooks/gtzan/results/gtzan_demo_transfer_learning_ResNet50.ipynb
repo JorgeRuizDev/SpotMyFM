{
  "cells": [
    {
      "cell_type": "code",
      "execution_count": 2,
      "metadata": {
        "execution": {
          "iopub.execute_input": "2022-01-29T20:23:53.858155Z",
          "iopub.status.busy": "2022-01-29T20:23:53.856814Z",
          "iopub.status.idle": "2022-01-29T20:23:53.864056Z",
          "shell.execute_reply": "2022-01-29T20:23:53.862669Z",
          "shell.execute_reply.started": "2022-01-29T20:23:53.858104Z"
        },
        "trusted": true,
        "id": "Qv0vR00IP-FZ"
      },
      "outputs": [],
      "source": [
        "#!pip install tensorflow librosa"
      ]
    },
    {
      "cell_type": "markdown",
      "metadata": {
        "id": "iJQ9_KkJP-Fc"
      },
      "source": [
        "[![Open In Colab](https://colab.research.google.com/assets/colab-badge.svg)](https://colab.research.google.com/github/JorgeRuizDev/SpotMyFM/blob/main/Ludwig/notebooks/gtzan/gtzan_demo_transfer_learning.ipynb)\n",
        "[![Kaggle](https://kaggle.com/static/images/open-in-kaggle.svg)](https://kaggle.com/kernels/welcome?src=https://github.com/JorgeRuizDev/SpotMyFM/blob/main/Ludwig/notebooks/gtzan/gtzan_demo_transfer_learning.ipynb)"
      ]
    },
    {
      "cell_type": "code",
      "execution_count": 3,
      "metadata": {
        "execution": {
          "iopub.execute_input": "2022-01-29T20:23:53.867589Z",
          "iopub.status.busy": "2022-01-29T20:23:53.866881Z",
          "iopub.status.idle": "2022-01-29T20:24:00.703827Z",
          "shell.execute_reply": "2022-01-29T20:24:00.702643Z",
          "shell.execute_reply.started": "2022-01-29T20:23:53.867543Z"
        },
        "trusted": true,
        "id": "ONEDfB7KP-Fd"
      },
      "outputs": [],
      "source": [
        "# Imports\n",
        "import tensorflow as tf\n",
        "from tensorflow import keras\n",
        "from keras.preprocessing.image import ImageDataGenerator\n",
        "from keras import layers\n",
        "import os\n",
        "from pathlib import Path\n",
        "from IPython.core.display import HTML, display\n",
        "\n",
        "import librosa\n",
        "import random\n",
        "import numpy as np\n",
        "from math import floor\n",
        "from typing import Union, Any"
      ]
    },
    {
      "cell_type": "code",
      "execution_count": 4,
      "metadata": {
        "execution": {
          "iopub.execute_input": "2022-01-29T20:24:00.706585Z",
          "iopub.status.busy": "2022-01-29T20:24:00.706230Z",
          "iopub.status.idle": "2022-01-29T20:24:00.720547Z",
          "shell.execute_reply": "2022-01-29T20:24:00.719450Z",
          "shell.execute_reply.started": "2022-01-29T20:24:00.706526Z"
        },
        "trusted": true,
        "id": "U5pkmgXaP-Fe"
      },
      "outputs": [],
      "source": [
        "def download():\n",
        "  #!pip install kaggle\n",
        "  import os\n",
        "  os.environ['KAGGLE_USERNAME'] = \"jorgeruizdev\"\n",
        "  os.environ['KAGGLE_KEY'] = \"5f3badd86b1d1035e2723792a67a2879\"\n",
        "  !kaggle datasets download -d andradaolteanu/gtzan-dataset-music-genre-classification\n",
        "  !unzip -qq /content/gtzan-dataset-music-genre-classification.zip\n",
        "#download()"
      ]
    },
    {
      "cell_type": "code",
      "execution_count": 5,
      "metadata": {
        "execution": {
          "iopub.execute_input": "2022-01-29T20:24:00.725149Z",
          "iopub.status.busy": "2022-01-29T20:24:00.724859Z",
          "iopub.status.idle": "2022-01-29T20:24:00.904893Z",
          "shell.execute_reply": "2022-01-29T20:24:00.903566Z",
          "shell.execute_reply.started": "2022-01-29T20:24:00.725113Z"
        },
        "trusted": true,
        "id": "n7c7ZS8pP-Ff",
        "colab": {
          "base_uri": "https://localhost:8080/"
        },
        "outputId": "20c0ec2e-37e8-4b69-8794-dc61405ad362"
      },
      "outputs": [
        {
          "output_type": "stream",
          "name": "stdout",
          "text": [
            "2.8.0\n",
            "[PhysicalDevice(name='/physical_device:GPU:0', device_type='GPU')]\n"
          ]
        }
      ],
      "source": [
        "print(tf. __version__)\n",
        "print(tf.config.list_physical_devices('GPU'))\n"
      ]
    },
    {
      "cell_type": "code",
      "execution_count": 6,
      "metadata": {
        "execution": {
          "iopub.execute_input": "2022-01-29T20:24:00.908090Z",
          "iopub.status.busy": "2022-01-29T20:24:00.907269Z",
          "iopub.status.idle": "2022-01-29T20:24:00.921762Z",
          "shell.execute_reply": "2022-01-29T20:24:00.920621Z",
          "shell.execute_reply.started": "2022-01-29T20:24:00.908035Z"
        },
        "trusted": true,
        "id": "r9yEssxXP-Ff",
        "colab": {
          "base_uri": "https://localhost:8080/"
        },
        "outputId": "c6479e7a-bcba-4c64-99a3-6c5f5ebf65ea"
      },
      "outputs": [
        {
          "output_type": "stream",
          "name": "stdout",
          "text": [
            "Samples Per Split 66150\n"
          ]
        }
      ],
      "source": [
        "# CONFIG\n",
        "\n",
        "SAMPLE_RATE = 22050\n",
        "\n",
        "TRACK_LENGTH = 30\n",
        "\n",
        "TRACK_SAMPLES = 22050 * TRACK_LENGTH\n",
        "\n",
        "SPLITS = 10\n",
        "\n",
        "SAMPLES_PER_SPLIT = TRACK_SAMPLES // SPLITS\n",
        "\n",
        "N_MELS = 64\n",
        "\n",
        "print(f\"Samples Per Split {SAMPLES_PER_SPLIT}\")\n",
        "\n",
        "INPUT_SHAPE = (SAMPLES_PER_SPLIT , N_MELS, 1)\n",
        "\n",
        "# Dataset:\n",
        "DATASET_PATH = \"/content/Data\"\n",
        "\n",
        "GENRES_PATH = f\"{DATASET_PATH}/genres_original\"\n",
        "\n",
        "GENRES = os.listdir(GENRES_PATH)\n",
        "\n",
        "\n",
        "\n",
        "# Training\n",
        "BATCH_SIZE = 20\n"
      ]
    },
    {
      "cell_type": "code",
      "execution_count": 7,
      "metadata": {
        "execution": {
          "iopub.execute_input": "2022-01-29T20:24:00.925444Z",
          "iopub.status.busy": "2022-01-29T20:24:00.925202Z",
          "iopub.status.idle": "2022-01-29T20:24:00.933974Z",
          "shell.execute_reply": "2022-01-29T20:24:00.932667Z",
          "shell.execute_reply.started": "2022-01-29T20:24:00.925413Z"
        },
        "trusted": true,
        "id": "7dyK7CF4P-Fg",
        "colab": {
          "base_uri": "https://localhost:8080/"
        },
        "outputId": "7238779c-864d-4f8c-96bd-86f34cd47e8f"
      },
      "outputs": [
        {
          "output_type": "stream",
          "name": "stdout",
          "text": [
            "Genre to Label Dict: {'country': 0, 'hiphop': 1, 'classical': 2, 'pop': 3, 'blues': 4, 'metal': 5, 'rock': 6, 'reggae': 7, 'disco': 8, 'jazz': 9}\n",
            "Label to Genre Dict: {0: 'country', 1: 'hiphop', 2: 'classical', 3: 'pop', 4: 'blues', 5: 'metal', 6: 'rock', 7: 'reggae', 8: 'disco', 9: 'jazz'}\n"
          ]
        }
      ],
      "source": [
        "GENRE_2_LABEL = {k: v for v, k in enumerate(GENRES)}\n",
        "LABEL_2_GENRE = {v: k for k,v in GENRE_2_LABEL.items()}\n",
        "print(f\"Genre to Label Dict: {GENRE_2_LABEL}\")\n",
        "print(f\"Label to Genre Dict: {LABEL_2_GENRE}\")"
      ]
    },
    {
      "cell_type": "code",
      "execution_count": 8,
      "metadata": {
        "execution": {
          "iopub.execute_input": "2022-01-29T20:24:00.937080Z",
          "iopub.status.busy": "2022-01-29T20:24:00.936155Z",
          "iopub.status.idle": "2022-01-29T20:24:00.983849Z",
          "shell.execute_reply": "2022-01-29T20:24:00.982812Z",
          "shell.execute_reply.started": "2022-01-29T20:24:00.937028Z"
        },
        "trusted": true,
        "id": "gpqbcNjFP-Fh"
      },
      "outputs": [],
      "source": [
        "if not len(list(Path(f\"{DATASET_PATH}/genres_original/disco\").glob(\"*.wav\"))) >= 100:\n",
        "  print(f\"\"\"\n",
        "    No subfolder 'genres_original/disco' found under {DATASET_PATH}.\n",
        "    Please download the datasate from https://www.kaggle.com/andradaolteanu/gtzan-dataset-music-genre-classification and\n",
        "    unzip it under {DATASET_PATH}.\n",
        "  \"\"\")\n",
        "  raise IOError\n"
      ]
    },
    {
      "cell_type": "code",
      "source": [
        "def split_track(y, samples_per_split = SAMPLES_PER_SPLIT):\n",
        "\n",
        "    return [y[slice_samp:slice_samp + samples_per_split] for slice_samp in range(0, len(y), samples_per_split) ]\n",
        "\n"
      ],
      "metadata": {
        "id": "1Odq9ar66Tby"
      },
      "execution_count": 9,
      "outputs": []
    },
    {
      "cell_type": "code",
      "source": [
        "def normalize_mfccs(mfcc_feat: np.ndarray):\n",
        "    return np.subtract(mfcc_feat,np.mean(mfcc_feat))\n"
      ],
      "metadata": {
        "id": "sk1bO3UR4sWP"
      },
      "execution_count": 10,
      "outputs": []
    },
    {
      "cell_type": "code",
      "execution_count": 11,
      "metadata": {
        "execution": {
          "iopub.execute_input": "2022-01-29T20:35:49.453253Z",
          "iopub.status.busy": "2022-01-29T20:35:49.452881Z",
          "iopub.status.idle": "2022-01-29T20:35:49.461358Z",
          "shell.execute_reply": "2022-01-29T20:35:49.458903Z",
          "shell.execute_reply.started": "2022-01-29T20:35:49.453218Z"
        },
        "trusted": true,
        "id": "zbCPHEpEP-Fh"
      },
      "outputs": [],
      "source": [
        "def preprocess_track(signal: Union[np.ndarray, Any], sr=SAMPLE_RATE):\n",
        "    mfccs = librosa.feature.mfcc(y=signal, n_mfcc=N_MELS, sr=sr)\n",
        "\n",
        "    #log_S = librosa.amplitude_to_db(mfccs)\n",
        "    #delta = librosa.feature.delta(mfccs, order=1)\n",
        "\n",
        "    return normalize_mfccs(mfccs)"
      ]
    },
    {
      "cell_type": "code",
      "execution_count": 12,
      "metadata": {
        "execution": {
          "iopub.execute_input": "2022-01-29T20:24:00.996021Z",
          "iopub.status.busy": "2022-01-29T20:24:00.995367Z",
          "iopub.status.idle": "2022-01-29T20:24:01.006806Z",
          "shell.execute_reply": "2022-01-29T20:24:01.005617Z",
          "shell.execute_reply.started": "2022-01-29T20:24:00.995974Z"
        },
        "trusted": true,
        "id": "IYKppEdaP-Fi"
      },
      "outputs": [],
      "source": [
        "def load_data(genre_path=GENRES_PATH):\n",
        "    track_input = []\n",
        "    labels = []\n",
        "    for genre in GENRES:\n",
        "        genre_folder = f\"{genre_path}/{genre}\"\n",
        "        label = GENRE_2_LABEL[genre]\n",
        "        for track in os.listdir(genre_folder):\n",
        "\n",
        "            if (track == \"jazz.00054.wav\"):\n",
        "                # This track is broken \n",
        "                continue\n",
        "\n",
        "            y, sr = librosa.load(f\"{genre_folder}/{track}\", sr=SAMPLE_RATE)\n",
        "            \n",
        "            # Split into chunkso f SAMPLES_PER_SPLIT length \n",
        "            splits = split_track(y)\n",
        "\n",
        "            track = []\n",
        "\n",
        "            for split in splits:\n",
        "                \n",
        "                if (len(split) == SAMPLES_PER_SPLIT):\n",
        "                    track.append(preprocess_track(split, sr))\n",
        "            \n",
        "            if len(track):  \n",
        "                track_input.append(track)\n",
        "                labels.append(label)\n",
        "\n",
        "    \n",
        "\n",
        "    return track_input, labels"
      ]
    },
    {
      "cell_type": "code",
      "execution_count": 13,
      "metadata": {
        "execution": {
          "iopub.execute_input": "2022-01-29T20:24:01.011084Z",
          "iopub.status.busy": "2022-01-29T20:24:01.010727Z",
          "iopub.status.idle": "2022-01-29T20:24:01.023427Z",
          "shell.execute_reply": "2022-01-29T20:24:01.022137Z",
          "shell.execute_reply.started": "2022-01-29T20:24:01.011037Z"
        },
        "trusted": true,
        "id": "lNLPNzGnP-Fj"
      },
      "outputs": [],
      "source": [
        "def unison_shuffled_copies(a, b):\n",
        "    assert len(a) == len(b), f\"len(a) = {len(a)} != len(b) = {len(b)}\"\n",
        "    p = np.random.permutation(len(a))\n",
        "    return a[p], b[p]"
      ]
    },
    {
      "cell_type": "code",
      "execution_count": 14,
      "metadata": {
        "execution": {
          "iopub.execute_input": "2022-01-29T20:24:01.025813Z",
          "iopub.status.busy": "2022-01-29T20:24:01.025322Z",
          "iopub.status.idle": "2022-01-29T20:26:01.356746Z",
          "shell.execute_reply": "2022-01-29T20:26:01.355812Z",
          "shell.execute_reply.started": "2022-01-29T20:24:01.025768Z"
        },
        "trusted": true,
        "id": "7OPK7TR3P-Fj"
      },
      "outputs": [],
      "source": [
        "tracks_, labels_ = load_data()"
      ]
    },
    {
      "cell_type": "code",
      "source": [
        ""
      ],
      "metadata": {
        "id": "Ov0lISETVGIe"
      },
      "execution_count": 14,
      "outputs": []
    },
    {
      "cell_type": "code",
      "source": [
        "def train_test_val(ds, test=0.1, val=0.2):\n",
        "\n",
        "\n",
        "    train_slice = floor(len(ds) * (1 - val + test))\n",
        "\n",
        "\n",
        "    train = ds[:train_slice]\n",
        "    rest = ds[train_slice:]\n",
        "\n",
        "    rest_slice =  floor(len(rest) * (1 - (test / ( test + val))))\n",
        "\n",
        "    test = rest[:rest_slice]\n",
        "    val = rest[rest_slice:]\n",
        "\n",
        "    return train, test, val\n"
      ],
      "metadata": {
        "id": "F7ZTFxlj5lAX"
      },
      "execution_count": 15,
      "outputs": []
    },
    {
      "cell_type": "code",
      "source": [
        "class TrackDataGen(keras.utils.Sequence):\n",
        "    \n",
        "    def __init__(self, data,\n",
        "                 input_shape = (13, 259),\n",
        "                 batch_size = 30):\n",
        "        \n",
        "        self.batch_size = batch_size\n",
        "        self.shape = input_shape\n",
        "        X = []\n",
        "        Y = []\n",
        "\n",
        "        for track_splits, labels in data:\n",
        "            X.extend(track_splits)\n",
        "            Y.extend(([labels]* len(track_splits)))\n",
        "\n",
        "        X_np = np.array(X)\n",
        "        X_np = np.expand_dims(X_np, axis=3)\n",
        "        Y_np = np.array(Y)\n",
        "\n",
        "        self.X, self.Y = unison_shuffled_copies(X_np, Y_np)\n",
        "        \n",
        "    \n",
        "    \n",
        "    def on_epoch_end(self):\n",
        "        pass\n",
        "    \n",
        "    def __getitem__(self, idx):\n",
        "        batch_x = self.X[idx * self.batch_size:(idx + 1) * self.batch_size]\n",
        "        batch_y = self.Y[idx * self.batch_size:(idx + 1) * self.batch_size] \n",
        "        \n",
        "        return batch_x, np.array(batch_y)\n",
        "    \n",
        "    def __len__(self):\n",
        "        return len(self.X) // self.batch_size"
      ],
      "metadata": {
        "id": "I36oh6U--LRA"
      },
      "execution_count": 16,
      "outputs": []
    },
    {
      "cell_type": "code",
      "source": [
        "class StopCallback(keras.callbacks.Callback):\n",
        "    def on_epoch_end(self, epoch, logs={}):\n",
        "        if (logs.get(\"accuracy\") or 0) > 0.97:\n",
        "            self.model.stop_training = True\n",
        "stop_callback = StopCallback()"
      ],
      "metadata": {
        "id": "3qG200rHQNSY"
      },
      "execution_count": 22,
      "outputs": []
    },
    {
      "cell_type": "code",
      "source": [
        "checkpoint_callback = tf.keras.callbacks.ModelCheckpoint(\n",
        "    \"./checkpoint\",\n",
        "    monitor='val_accuracy',\n",
        ")"
      ],
      "metadata": {
        "id": "_kOsNJwmgMuN"
      },
      "execution_count": 21,
      "outputs": []
    },
    {
      "cell_type": "code",
      "execution_count": 18,
      "metadata": {
        "execution": {
          "iopub.execute_input": "2022-01-29T20:26:01.360893Z",
          "iopub.status.busy": "2022-01-29T20:26:01.360686Z",
          "iopub.status.idle": "2022-01-29T20:26:02.497804Z",
          "shell.execute_reply": "2022-01-29T20:26:02.496894Z",
          "shell.execute_reply.started": "2022-01-29T20:26:01.360865Z"
        },
        "trusted": true,
        "id": "gCaUPE6BP-Fj",
        "colab": {
          "base_uri": "https://localhost:8080/"
        },
        "outputId": "ff68a174-d060-49a6-bdd3-f4d5de93f287"
      },
      "outputs": [
        {
          "output_type": "stream",
          "name": "stdout",
          "text": [
            "999\n",
            "(30, 64, 130, 1)\n"
          ]
        }
      ],
      "source": [
        "tracks, labels = tracks_, labels_\n",
        "\n",
        "\n",
        "track_labels = list(zip(tracks, labels))\n",
        "\n",
        "random.shuffle(track_labels)\n",
        "\n",
        "train, test, val = train_test_val(track_labels)\n",
        "print(len(train) + len(test) + len(val))\n",
        "\n",
        "\n",
        "train_generator = TrackDataGen(train)\n",
        "print(train_generator[0][0].shape)\n",
        "validation_generator = TrackDataGen(val)\n",
        "\n",
        "\n"
      ]
    },
    {
      "cell_type": "code",
      "source": [
        ""
      ],
      "metadata": {
        "id": "B4QA36sZWFyO"
      },
      "execution_count": 18,
      "outputs": []
    },
    {
      "cell_type": "code",
      "execution_count": 23,
      "metadata": {
        "execution": {
          "iopub.execute_input": "2022-01-29T20:26:02.501759Z",
          "iopub.status.busy": "2022-01-29T20:26:02.499336Z",
          "iopub.status.idle": "2022-01-29T20:27:42.859789Z",
          "shell.execute_reply": "2022-01-29T20:27:42.858736Z",
          "shell.execute_reply.started": "2022-01-29T20:26:02.501710Z"
        },
        "trusted": true,
        "id": "9sDdi9hLP-Fk"
      },
      "outputs": [],
      "source": [
        "base_model = keras.applications.ResNet50(\n",
        "    include_top=False, \n",
        "    #input_shape=INPUT_SHAPE,\n",
        ")\n",
        "\n",
        "# Freeze the model\n",
        "base_model.trainable = False\n",
        "\n",
        "model = keras.models.Sequential([layers.Conv2D(3,(3,3),padding='same'), base_model, layers.Flatten(), layers.Dense(512, activation=\"relu\"), layers.Dropout(0.2), layers.Flatten(), layers.Dense(512, activation=\"relu\"),layers.Dense(10, activation='softmax')]) \n",
        "\n",
        "\n",
        "model.compile(loss = 'sparse_categorical_crossentropy', optimizer='rmsprop', metrics=['accuracy'])\n",
        "\n"
      ]
    },
    {
      "cell_type": "code",
      "source": [
        "history = model.fit(train_generator,\n",
        "                     validation_data = validation_generator, \n",
        "                     #validation_steps = len(tracks) // BATCH_SIZE,\n",
        "                     epochs=1000,\n",
        "                     callbacks = [stop_callback, checkpoint_callback]\n",
        "                     )"
      ],
      "metadata": {
        "id": "RpshCI_hQqlz",
        "outputId": "bbcd69a4-38c8-49bb-8c30-3dbb3fbe6600",
        "colab": {
          "base_uri": "https://localhost:8080/"
        }
      },
      "execution_count": 24,
      "outputs": [
        {
          "output_type": "stream",
          "name": "stdout",
          "text": [
            "299/299 [==============================] - ETA: 0s - loss: 2.3240 - accuracy: 0.4739INFO:tensorflow:Assets written to: ./checkpoint/assets\n",
            "299/299 [==============================] - 45s 139ms/step - loss: 2.3240 - accuracy: 0.4739 - val_loss: 1.4491 - val_accuracy: 0.4970\n",
            "Epoch 2/1000\n",
            "299/299 [==============================] - ETA: 0s - loss: 1.1865 - accuracy: 0.6103INFO:tensorflow:Assets written to: ./checkpoint/assets\n",
            "299/299 [==============================] - 41s 136ms/step - loss: 1.1865 - accuracy: 0.6103 - val_loss: 0.9459 - val_accuracy: 0.6818\n",
            "Epoch 3/1000\n",
            "299/299 [==============================] - ETA: 0s - loss: 0.9753 - accuracy: 0.6751INFO:tensorflow:Assets written to: ./checkpoint/assets\n",
            "299/299 [==============================] - 41s 136ms/step - loss: 0.9753 - accuracy: 0.6751 - val_loss: 1.0505 - val_accuracy: 0.6273\n",
            "Epoch 4/1000\n",
            "299/299 [==============================] - ETA: 0s - loss: 0.8369 - accuracy: 0.7237INFO:tensorflow:Assets written to: ./checkpoint/assets\n",
            "299/299 [==============================] - 41s 136ms/step - loss: 0.8369 - accuracy: 0.7237 - val_loss: 1.3077 - val_accuracy: 0.6485\n",
            "Epoch 5/1000\n",
            "299/299 [==============================] - ETA: 0s - loss: 0.7315 - accuracy: 0.7606INFO:tensorflow:Assets written to: ./checkpoint/assets\n",
            "299/299 [==============================] - 40s 135ms/step - loss: 0.7315 - accuracy: 0.7606 - val_loss: 0.9824 - val_accuracy: 0.6758\n",
            "Epoch 6/1000\n",
            "299/299 [==============================] - ETA: 0s - loss: 0.6464 - accuracy: 0.7855INFO:tensorflow:Assets written to: ./checkpoint/assets\n",
            "299/299 [==============================] - 41s 137ms/step - loss: 0.6464 - accuracy: 0.7855 - val_loss: 1.0187 - val_accuracy: 0.7333\n",
            "Epoch 7/1000\n",
            "299/299 [==============================] - ETA: 0s - loss: 0.5467 - accuracy: 0.8146INFO:tensorflow:Assets written to: ./checkpoint/assets\n",
            "299/299 [==============================] - 41s 136ms/step - loss: 0.5467 - accuracy: 0.8146 - val_loss: 1.1269 - val_accuracy: 0.6909\n",
            "Epoch 8/1000\n",
            "299/299 [==============================] - ETA: 0s - loss: 0.5085 - accuracy: 0.8332INFO:tensorflow:Assets written to: ./checkpoint/assets\n",
            "299/299 [==============================] - 42s 141ms/step - loss: 0.5085 - accuracy: 0.8332 - val_loss: 1.2410 - val_accuracy: 0.6758\n",
            "Epoch 9/1000\n",
            "299/299 [==============================] - ETA: 0s - loss: 0.4537 - accuracy: 0.8538INFO:tensorflow:Assets written to: ./checkpoint/assets\n",
            "299/299 [==============================] - 41s 137ms/step - loss: 0.4537 - accuracy: 0.8538 - val_loss: 1.2817 - val_accuracy: 0.6758\n",
            "Epoch 10/1000\n",
            "299/299 [==============================] - ETA: 0s - loss: 0.4115 - accuracy: 0.8688INFO:tensorflow:Assets written to: ./checkpoint/assets\n",
            "299/299 [==============================] - 40s 136ms/step - loss: 0.4115 - accuracy: 0.8688 - val_loss: 1.3989 - val_accuracy: 0.6939\n",
            "Epoch 11/1000\n",
            "299/299 [==============================] - ETA: 0s - loss: 0.3796 - accuracy: 0.8784INFO:tensorflow:Assets written to: ./checkpoint/assets\n",
            "299/299 [==============================] - 41s 138ms/step - loss: 0.3796 - accuracy: 0.8784 - val_loss: 1.4217 - val_accuracy: 0.7212\n",
            "Epoch 12/1000\n",
            "299/299 [==============================] - ETA: 0s - loss: 0.3373 - accuracy: 0.8895INFO:tensorflow:Assets written to: ./checkpoint/assets\n",
            "299/299 [==============================] - 41s 138ms/step - loss: 0.3373 - accuracy: 0.8895 - val_loss: 1.4708 - val_accuracy: 0.7061\n",
            "Epoch 13/1000\n",
            "299/299 [==============================] - ETA: 0s - loss: 0.3464 - accuracy: 0.8941INFO:tensorflow:Assets written to: ./checkpoint/assets\n",
            "299/299 [==============================] - 41s 139ms/step - loss: 0.3464 - accuracy: 0.8941 - val_loss: 1.7188 - val_accuracy: 0.7030\n",
            "Epoch 14/1000\n",
            "299/299 [==============================] - ETA: 0s - loss: 0.3050 - accuracy: 0.9071INFO:tensorflow:Assets written to: ./checkpoint/assets\n",
            "299/299 [==============================] - 41s 136ms/step - loss: 0.3050 - accuracy: 0.9071 - val_loss: 1.8585 - val_accuracy: 0.7091\n",
            "Epoch 15/1000\n",
            "299/299 [==============================] - ETA: 0s - loss: 0.2998 - accuracy: 0.9090INFO:tensorflow:Assets written to: ./checkpoint/assets\n",
            "299/299 [==============================] - 41s 138ms/step - loss: 0.2998 - accuracy: 0.9090 - val_loss: 2.3762 - val_accuracy: 0.6788\n",
            "Epoch 16/1000\n",
            "299/299 [==============================] - ETA: 0s - loss: 0.2789 - accuracy: 0.9202INFO:tensorflow:Assets written to: ./checkpoint/assets\n",
            "299/299 [==============================] - 42s 139ms/step - loss: 0.2789 - accuracy: 0.9202 - val_loss: 1.8822 - val_accuracy: 0.7152\n",
            "Epoch 17/1000\n",
            "299/299 [==============================] - ETA: 0s - loss: 0.2834 - accuracy: 0.9191INFO:tensorflow:Assets written to: ./checkpoint/assets\n",
            "299/299 [==============================] - 41s 136ms/step - loss: 0.2834 - accuracy: 0.9191 - val_loss: 2.3879 - val_accuracy: 0.7000\n",
            "Epoch 18/1000\n",
            "299/299 [==============================] - ETA: 0s - loss: 0.2830 - accuracy: 0.9186INFO:tensorflow:Assets written to: ./checkpoint/assets\n",
            "299/299 [==============================] - 41s 137ms/step - loss: 0.2830 - accuracy: 0.9186 - val_loss: 2.0527 - val_accuracy: 0.7061\n",
            "Epoch 19/1000\n",
            "299/299 [==============================] - ETA: 0s - loss: 0.2493 - accuracy: 0.9347INFO:tensorflow:Assets written to: ./checkpoint/assets\n",
            "299/299 [==============================] - 41s 137ms/step - loss: 0.2493 - accuracy: 0.9347 - val_loss: 2.3931 - val_accuracy: 0.6939\n",
            "Epoch 20/1000\n",
            "299/299 [==============================] - ETA: 0s - loss: 0.2588 - accuracy: 0.9292INFO:tensorflow:Assets written to: ./checkpoint/assets\n",
            "299/299 [==============================] - 40s 135ms/step - loss: 0.2588 - accuracy: 0.9292 - val_loss: 2.2808 - val_accuracy: 0.6970\n",
            "Epoch 21/1000\n",
            "299/299 [==============================] - ETA: 0s - loss: 0.2414 - accuracy: 0.9371INFO:tensorflow:Assets written to: ./checkpoint/assets\n",
            "299/299 [==============================] - 40s 135ms/step - loss: 0.2414 - accuracy: 0.9371 - val_loss: 1.9456 - val_accuracy: 0.7455\n",
            "Epoch 22/1000\n",
            "299/299 [==============================] - ETA: 0s - loss: 0.2356 - accuracy: 0.9361INFO:tensorflow:Assets written to: ./checkpoint/assets\n",
            "299/299 [==============================] - 41s 137ms/step - loss: 0.2356 - accuracy: 0.9361 - val_loss: 2.0066 - val_accuracy: 0.7242\n",
            "Epoch 23/1000\n",
            "299/299 [==============================] - ETA: 0s - loss: 0.2096 - accuracy: 0.9437INFO:tensorflow:Assets written to: ./checkpoint/assets\n",
            "299/299 [==============================] - 41s 136ms/step - loss: 0.2096 - accuracy: 0.9437 - val_loss: 2.7475 - val_accuracy: 0.6576\n",
            "Epoch 24/1000\n",
            "299/299 [==============================] - ETA: 0s - loss: 0.2205 - accuracy: 0.9388INFO:tensorflow:Assets written to: ./checkpoint/assets\n",
            "299/299 [==============================] - 40s 136ms/step - loss: 0.2205 - accuracy: 0.9388 - val_loss: 2.2643 - val_accuracy: 0.7121\n",
            "Epoch 25/1000\n",
            "299/299 [==============================] - ETA: 0s - loss: 0.2131 - accuracy: 0.9460INFO:tensorflow:Assets written to: ./checkpoint/assets\n",
            "299/299 [==============================] - 41s 136ms/step - loss: 0.2131 - accuracy: 0.9460 - val_loss: 2.4663 - val_accuracy: 0.7152\n",
            "Epoch 26/1000\n",
            "299/299 [==============================] - ETA: 0s - loss: 0.1930 - accuracy: 0.9478INFO:tensorflow:Assets written to: ./checkpoint/assets\n",
            "299/299 [==============================] - 41s 136ms/step - loss: 0.1930 - accuracy: 0.9478 - val_loss: 2.3869 - val_accuracy: 0.7152\n",
            "Epoch 27/1000\n",
            "299/299 [==============================] - ETA: 0s - loss: 0.1850 - accuracy: 0.9535INFO:tensorflow:Assets written to: ./checkpoint/assets\n",
            "299/299 [==============================] - 40s 135ms/step - loss: 0.1850 - accuracy: 0.9535 - val_loss: 2.3024 - val_accuracy: 0.7273\n",
            "Epoch 28/1000\n",
            "299/299 [==============================] - ETA: 0s - loss: 0.1828 - accuracy: 0.9534INFO:tensorflow:Assets written to: ./checkpoint/assets\n",
            "299/299 [==============================] - 41s 138ms/step - loss: 0.1828 - accuracy: 0.9534 - val_loss: 2.5984 - val_accuracy: 0.7091\n",
            "Epoch 29/1000\n",
            "299/299 [==============================] - ETA: 0s - loss: 0.1900 - accuracy: 0.9526INFO:tensorflow:Assets written to: ./checkpoint/assets\n",
            "299/299 [==============================] - 41s 137ms/step - loss: 0.1900 - accuracy: 0.9526 - val_loss: 2.6650 - val_accuracy: 0.7303\n",
            "Epoch 30/1000\n",
            "299/299 [==============================] - ETA: 0s - loss: 0.1887 - accuracy: 0.9503INFO:tensorflow:Assets written to: ./checkpoint/assets\n",
            "299/299 [==============================] - 40s 136ms/step - loss: 0.1887 - accuracy: 0.9503 - val_loss: 2.8603 - val_accuracy: 0.7061\n",
            "Epoch 31/1000\n",
            "299/299 [==============================] - ETA: 0s - loss: 0.1961 - accuracy: 0.9545INFO:tensorflow:Assets written to: ./checkpoint/assets\n",
            "299/299 [==============================] - 40s 136ms/step - loss: 0.1961 - accuracy: 0.9545 - val_loss: 2.8014 - val_accuracy: 0.6697\n",
            "Epoch 32/1000\n",
            "299/299 [==============================] - ETA: 0s - loss: 0.1896 - accuracy: 0.9534INFO:tensorflow:Assets written to: ./checkpoint/assets\n",
            "299/299 [==============================] - 41s 136ms/step - loss: 0.1896 - accuracy: 0.9534 - val_loss: 3.2206 - val_accuracy: 0.7182\n",
            "Epoch 33/1000\n",
            "299/299 [==============================] - ETA: 0s - loss: 0.1654 - accuracy: 0.9586INFO:tensorflow:Assets written to: ./checkpoint/assets\n",
            "299/299 [==============================] - 41s 138ms/step - loss: 0.1654 - accuracy: 0.9586 - val_loss: 2.3312 - val_accuracy: 0.7515\n",
            "Epoch 34/1000\n",
            "299/299 [==============================] - ETA: 0s - loss: 0.1681 - accuracy: 0.9563INFO:tensorflow:Assets written to: ./checkpoint/assets\n",
            "299/299 [==============================] - 41s 137ms/step - loss: 0.1681 - accuracy: 0.9563 - val_loss: 2.9369 - val_accuracy: 0.7091\n",
            "Epoch 35/1000\n",
            "299/299 [==============================] - ETA: 0s - loss: 0.1825 - accuracy: 0.9556INFO:tensorflow:Assets written to: ./checkpoint/assets\n",
            "299/299 [==============================] - 41s 136ms/step - loss: 0.1825 - accuracy: 0.9556 - val_loss: 2.7898 - val_accuracy: 0.7152\n",
            "Epoch 36/1000\n",
            "299/299 [==============================] - ETA: 0s - loss: 0.1861 - accuracy: 0.9575INFO:tensorflow:Assets written to: ./checkpoint/assets\n",
            "299/299 [==============================] - 40s 135ms/step - loss: 0.1861 - accuracy: 0.9575 - val_loss: 3.2028 - val_accuracy: 0.6909\n",
            "Epoch 37/1000\n",
            "299/299 [==============================] - ETA: 0s - loss: 0.1545 - accuracy: 0.9633INFO:tensorflow:Assets written to: ./checkpoint/assets\n",
            "299/299 [==============================] - 41s 136ms/step - loss: 0.1545 - accuracy: 0.9633 - val_loss: 3.4546 - val_accuracy: 0.7091\n",
            "Epoch 38/1000\n",
            "299/299 [==============================] - ETA: 0s - loss: 0.1609 - accuracy: 0.9632INFO:tensorflow:Assets written to: ./checkpoint/assets\n",
            "299/299 [==============================] - 41s 137ms/step - loss: 0.1609 - accuracy: 0.9632 - val_loss: 3.2344 - val_accuracy: 0.7545\n",
            "Epoch 39/1000\n",
            "299/299 [==============================] - ETA: 0s - loss: 0.1727 - accuracy: 0.9624INFO:tensorflow:Assets written to: ./checkpoint/assets\n",
            "299/299 [==============================] - 41s 136ms/step - loss: 0.1727 - accuracy: 0.9624 - val_loss: 3.1966 - val_accuracy: 0.7152\n",
            "Epoch 40/1000\n",
            "299/299 [==============================] - ETA: 0s - loss: 0.1556 - accuracy: 0.9645INFO:tensorflow:Assets written to: ./checkpoint/assets\n",
            "299/299 [==============================] - 41s 136ms/step - loss: 0.1556 - accuracy: 0.9645 - val_loss: 3.0176 - val_accuracy: 0.7394\n",
            "Epoch 41/1000\n",
            "299/299 [==============================] - ETA: 0s - loss: 0.1576 - accuracy: 0.9628INFO:tensorflow:Assets written to: ./checkpoint/assets\n",
            "299/299 [==============================] - 41s 136ms/step - loss: 0.1576 - accuracy: 0.9628 - val_loss: 4.2787 - val_accuracy: 0.6606\n",
            "Epoch 42/1000\n",
            "299/299 [==============================] - ETA: 0s - loss: 0.1492 - accuracy: 0.9651INFO:tensorflow:Assets written to: ./checkpoint/assets\n",
            "299/299 [==============================] - 41s 136ms/step - loss: 0.1492 - accuracy: 0.9651 - val_loss: 2.5618 - val_accuracy: 0.7424\n",
            "Epoch 43/1000\n",
            "299/299 [==============================] - ETA: 0s - loss: 0.1535 - accuracy: 0.9660INFO:tensorflow:Assets written to: ./checkpoint/assets\n",
            "299/299 [==============================] - 40s 135ms/step - loss: 0.1535 - accuracy: 0.9660 - val_loss: 3.2196 - val_accuracy: 0.7273\n",
            "Epoch 44/1000\n",
            "299/299 [==============================] - ETA: 0s - loss: 0.1565 - accuracy: 0.9639INFO:tensorflow:Assets written to: ./checkpoint/assets\n",
            "299/299 [==============================] - 40s 135ms/step - loss: 0.1565 - accuracy: 0.9639 - val_loss: 3.2606 - val_accuracy: 0.6879\n",
            "Epoch 45/1000\n",
            "299/299 [==============================] - ETA: 0s - loss: 0.1536 - accuracy: 0.9674INFO:tensorflow:Assets written to: ./checkpoint/assets\n",
            "299/299 [==============================] - 41s 137ms/step - loss: 0.1536 - accuracy: 0.9674 - val_loss: 3.8388 - val_accuracy: 0.7030\n",
            "Epoch 46/1000\n",
            "299/299 [==============================] - ETA: 0s - loss: 0.1705 - accuracy: 0.9644INFO:tensorflow:Assets written to: ./checkpoint/assets\n",
            "299/299 [==============================] - 41s 138ms/step - loss: 0.1705 - accuracy: 0.9644 - val_loss: 3.2307 - val_accuracy: 0.7121\n",
            "Epoch 47/1000\n",
            "299/299 [==============================] - ETA: 0s - loss: 0.1478 - accuracy: 0.9682INFO:tensorflow:Assets written to: ./checkpoint/assets\n",
            "299/299 [==============================] - 40s 135ms/step - loss: 0.1478 - accuracy: 0.9682 - val_loss: 3.1804 - val_accuracy: 0.7303\n",
            "Epoch 48/1000\n",
            "299/299 [==============================] - ETA: 0s - loss: 0.1508 - accuracy: 0.9663INFO:tensorflow:Assets written to: ./checkpoint/assets\n",
            "299/299 [==============================] - 40s 135ms/step - loss: 0.1508 - accuracy: 0.9663 - val_loss: 3.0695 - val_accuracy: 0.7212\n",
            "Epoch 49/1000\n",
            "299/299 [==============================] - ETA: 0s - loss: 0.1598 - accuracy: 0.9670INFO:tensorflow:Assets written to: ./checkpoint/assets\n",
            "299/299 [==============================] - 40s 135ms/step - loss: 0.1598 - accuracy: 0.9670 - val_loss: 3.8655 - val_accuracy: 0.6909\n",
            "Epoch 50/1000\n",
            "299/299 [==============================] - ETA: 0s - loss: 0.1526 - accuracy: 0.9683INFO:tensorflow:Assets written to: ./checkpoint/assets\n",
            "299/299 [==============================] - 41s 136ms/step - loss: 0.1526 - accuracy: 0.9683 - val_loss: 4.1632 - val_accuracy: 0.7242\n",
            "Epoch 51/1000\n",
            "299/299 [==============================] - ETA: 0s - loss: 0.1506 - accuracy: 0.9709INFO:tensorflow:Assets written to: ./checkpoint/assets\n",
            "299/299 [==============================] - 40s 134ms/step - loss: 0.1506 - accuracy: 0.9709 - val_loss: 3.9507 - val_accuracy: 0.7303\n"
          ]
        }
      ]
    },
    {
      "cell_type": "code",
      "source": [
        "\n",
        "test_generator = TrackDataGen(test)\n",
        "results = model.evaluate(test_generator)\n",
        "print(\"test loss, test acc:\", results)"
      ],
      "metadata": {
        "id": "h1OypVX_J4hd",
        "outputId": "d3d0aec4-182c-42f8-e97e-413fe6ad6abc",
        "colab": {
          "base_uri": "https://localhost:8080/"
        }
      },
      "execution_count": 25,
      "outputs": [
        {
          "output_type": "stream",
          "name": "stdout",
          "text": [
            "21/21 [==============================] - 1s 32ms/step - loss: 5.6727 - accuracy: 0.6333\n",
            "test loss, test acc: [5.672662734985352, 0.6333333253860474]\n"
          ]
        }
      ]
    },
    {
      "cell_type": "code",
      "source": [
        ""
      ],
      "metadata": {
        "id": "gAymI9MpKojF"
      },
      "execution_count": null,
      "outputs": []
    },
    {
      "cell_type": "code",
      "execution_count": null,
      "metadata": {
        "execution": {
          "iopub.execute_input": "2022-01-29T20:46:31.143603Z",
          "iopub.status.busy": "2022-01-29T20:46:31.143286Z",
          "iopub.status.idle": "2022-01-29T20:46:31.557126Z",
          "shell.execute_reply": "2022-01-29T20:46:31.554094Z",
          "shell.execute_reply.started": "2022-01-29T20:46:31.143568Z"
        },
        "trusted": true,
        "id": "cAQttoN-P-Fk"
      },
      "outputs": [],
      "source": [
        "import matplotlib.pyplot as plt\n",
        "acc = history.history['accuracy']\n",
        "val_acc = history.history['val_accuracy']\n",
        "loss = history.history['loss']\n",
        "val_loss = history.history['val_loss']\n",
        "\n",
        "epochs = range(len(acc))\n",
        "\n",
        "plt.plot(epochs, acc, 'r', label='Training accuracy')\n",
        "plt.plot(epochs, val_acc, 'b', label='Validation accuracy')\n",
        "plt.title('Training and validation accuracy')\n",
        "plt.legend(loc=0)\n",
        "plt.figure()\n",
        "\n",
        "\n",
        "plt.show()"
      ]
    },
    {
      "cell_type": "code",
      "source": [
        "model.save('/tmp/keras_model')"
      ],
      "metadata": {
        "id": "9ScyKY0iBpAa"
      },
      "execution_count": null,
      "outputs": []
    },
    {
      "cell_type": "code",
      "execution_count": null,
      "metadata": {
        "execution": {
          "iopub.execute_input": "2022-01-29T20:45:37.786868Z",
          "iopub.status.busy": "2022-01-29T20:45:37.786536Z",
          "iopub.status.idle": "2022-01-29T20:45:43.449248Z",
          "shell.execute_reply": "2022-01-29T20:45:43.447971Z",
          "shell.execute_reply.started": "2022-01-29T20:45:37.786833Z"
        },
        "trusted": true,
        "id": "vhgX3FR5P-Fk"
      },
      "outputs": [],
      "source": [
        "import requests\n",
        "from IPython import display\n",
        "url = input()\n",
        "r = requests.get(url, allow_redirects=True)\n",
        "open('test.mp3', 'wb').write(r.content)\n",
        "\n",
        "Y, sr = librosa.load('test.mp3')\n",
        "\n",
        "display.Audio(\"test.mp3\")"
      ]
    },
    {
      "cell_type": "code",
      "source": [
        "splits = []\n",
        "\n",
        "for split in split_track(Y):\n",
        "    if len(split) == SAMPLES_PER_SPLIT:\n",
        "        splits.append(preprocess_track(split))\n",
        "\n",
        "print(np.array(splits).shape)\n",
        "pred = model.predict(np.expand_dims(splits, axis=3))\n",
        "#print(pred)\n",
        "pred2 = pred.sum(axis=0)\n",
        "print(pred2)\n",
        "print(LABEL_2_GENRE)\n",
        "print(LABEL_2_GENRE.get(np.argmax(pred2)))\n",
        "\n"
      ],
      "metadata": {
        "id": "X-ODq4iODBHN"
      },
      "execution_count": null,
      "outputs": []
    }
  ],
  "metadata": {
    "kernelspec": {
      "display_name": "Python 3",
      "language": "python",
      "name": "python3"
    },
    "language_info": {
      "codemirror_mode": {
        "name": "ipython",
        "version": 3
      },
      "file_extension": ".py",
      "mimetype": "text/x-python",
      "name": "python",
      "nbconvert_exporter": "python",
      "pygments_lexer": "ipython3",
      "version": "3.8.12"
    },
    "colab": {
      "name": "gtzan_demo_train.ipynb",
      "provenance": []
    },
    "accelerator": "GPU"
  },
  "nbformat": 4,
  "nbformat_minor": 0
}